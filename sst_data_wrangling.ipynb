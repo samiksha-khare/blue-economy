{
 "cells": [
  {
   "cell_type": "code",
   "execution_count": null,
   "metadata": {
    "colab": {
     "base_uri": "https://localhost:8080/"
    },
    "id": "fIbreMSmnFpS",
    "outputId": "337d9a55-19e5-43d5-f334-82475ace1074"
   },
   "outputs": [],
   "source": [
    "!pip install --upgrade google-cloud-bigquery"
   ]
  },
  {
   "cell_type": "code",
   "execution_count": null,
   "metadata": {
    "id": "DWp5b2jrnozO"
   },
   "outputs": [],
   "source": [
    "import xarray as xr\n",
    "import matplotlib.pyplot as plt\n",
    "from google.colab import auth\n",
    "from google.cloud import bigquery\n"
   ]
  },
  {
   "cell_type": "code",
   "execution_count": null,
   "metadata": {
    "id": "98wpgCGdnRmP"
   },
   "outputs": [],
   "source": [
    "auth.authenticate_user()\n",
    "\n",
    "project_id = 'googlebigqueryprojectid'\n",
    "client = bigquery.Client(project=project_id)\n"
   ]
  },
  {
   "cell_type": "code",
   "execution_count": null,
   "metadata": {
    "colab": {
     "base_uri": "https://localhost:8080/"
    },
    "id": "7PlylzxLnaua",
    "outputId": "0abfcd7d-6b46-4a7b-f755-2f12d18d51df"
   },
   "outputs": [],
   "source": [
    "!pip install copernicusmarine\n",
    "\n",
    "# Step 1: Install the Copernicus Marine Toolbox\n",
    "import copernicusmarine\n",
    "\n",
    "# Step 2: Login with Your Copernicus Marine Credentials\n",
    "copernicusmarine.login(username=\"emailid\", password=\"password\")\n"
   ]
  },
  {
   "cell_type": "code",
   "execution_count": null,
   "metadata": {
    "colab": {
     "base_uri": "https://localhost:8080/",
     "height": 355,
     "referenced_widgets": [
      "8326a048707b4cc49f72710afa0f7e3e",
      "98958ac18ea54fa183b449b22563160b",
      "906f29c6ff5042f9bca4a70313d8837d",
      "799ff40158c4455fa6d2076c2e2c243b",
      "a4ed01f68abf46b9af345438692ee7d0",
      "a74cf5a2f53441a9ad0d4cd328ff2f34",
      "a9b58b68c7514527ac2321fc84ad8d5b",
      "cc6be502429740268e47f8a2cec77153",
      "7b9eb7cc5702415b976d038c9e5a914b",
      "1ffcd7732d2d4bc38105f78385feb916",
      "b0bfce49b3c34981a9cf6610e6b2ae4c"
     ]
    },
    "id": "Q5L_dmnsfyCO",
    "outputId": "f7d8a027-6927-4e9b-c318-e361706c2277"
   },
   "outputs": [],
   "source": [
    "# Subset\n",
    "\n",
    "copernicusmarine.subset(\n",
    "   dataset_id = \"METOFFICE-GLO-SST-L4-NRT-OBS-SST-V2\",\n",
    "   variables = [\"analysed_sst\"],\n",
    "   start_datetime = \"2011-01-01T00:00:00\",\n",
    "   end_datetime = \"2024-12-31T23:59:59\",\n",
    "   minimum_longitude = -59.75,\n",
    "   maximum_longitude = -59.40,\n",
    "   minimum_latitude = 12.95,\n",
    "   maximum_latitude = 13.25,\n",
    "   minimum_depth = 0,\n",
    "   maximum_depth = 1\n",
    ")"
   ]
  },
  {
   "cell_type": "code",
   "execution_count": null,
   "metadata": {
    "colab": {
     "base_uri": "https://localhost:8080/"
    },
    "id": "I4Gwt_7Cl8Ij",
    "outputId": "769ea908-a3b0-4e4d-95c3-914be0d82339"
   },
   "outputs": [],
   "source": [
    "import xarray as xr\n",
    "\n",
    "# Open the NetCDF file\n",
    "ds = xr.open_dataset('/content/METOFFICE-GLO-SST-L4-NRT-OBS-SST-V2_analysed_sst_59.72W-59.42W_12.98N-13.23N_2011-01-01-2024-12-31.nc')\n",
    "print(ds)"
   ]
  },
  {
   "cell_type": "code",
   "execution_count": null,
   "metadata": {
    "id": "fyIOeX-7vGT5"
   },
   "outputs": [],
   "source": [
    "# Flatten and convert to dataframe\n",
    "df = ds['analysed_sst'].to_dataframe(name='sea_surface_temp').reset_index()"
   ]
  },
  {
   "cell_type": "code",
   "execution_count": null,
   "metadata": {
    "colab": {
     "base_uri": "https://localhost:8080/",
     "height": 206
    },
    "id": "zZ9gqiSJvzlS",
    "outputId": "bc5deac8-6336-4eed-dd8d-ce7bc27868e0"
   },
   "outputs": [],
   "source": [
    "df.head()"
   ]
  },
  {
   "cell_type": "code",
   "execution_count": null,
   "metadata": {
    "colab": {
     "base_uri": "https://localhost:8080/"
    },
    "id": "qBnL-BZcU0x6",
    "outputId": "60ec6c9f-8568-44a0-9ff4-d27a67cecc94"
   },
   "outputs": [],
   "source": [
    "df.shape"
   ]
  },
  {
   "cell_type": "code",
   "execution_count": null,
   "metadata": {
    "colab": {
     "base_uri": "https://localhost:8080/"
    },
    "id": "kTMCyUswIqrG",
    "outputId": "08f46624-1598-4e16-b2b8-34200889158a"
   },
   "outputs": [],
   "source": [
    "import numpy as np\n",
    "\n",
    "# Load coordinate arrays from dataset\n",
    "ds = xr.open_dataset(\"/content/METOFFICE-GLO-SST-L4-NRT-OBS-SST-V2_analysed_sst_59.72W-59.42W_12.98N-13.23N_2011-01-01-2024-12-31.nc\")\n",
    "latitudes = ds.latitude.values\n",
    "longitudes = ds.longitude.values\n",
    "\n",
    "# Known coastal coordinates (approximate)\n",
    "locations = {\n",
    "    \"Crane Beach\": (13.1089, -59.4414),\n",
    "    # \"Folkestone Park\": (13.1912, -59.6423),\n",
    "    \"Oistins\": (13.0647, -59.5515),\n",
    "    \"Conset Bay\": (13.2025, -59.4827)\n",
    "}\n",
    "\n",
    "# Find nearest available offshore grid point for each location\n",
    "offshore_matches = {}\n",
    "\n",
    "for name, (lat, lon) in locations.items():\n",
    "    closest_lat = latitudes[np.abs(latitudes - lat).argmin()]\n",
    "    closest_lon = longitudes[np.abs(longitudes - lon).argmin()]\n",
    "    offshore_matches[name] = (closest_lat, closest_lon)\n",
    "\n",
    "offshore_matches\n"
   ]
  },
  {
   "cell_type": "code",
   "execution_count": null,
   "metadata": {
    "colab": {
     "base_uri": "https://localhost:8080/",
     "height": 206
    },
    "id": "0ji7Bq8pI_GY",
    "outputId": "fad8ea07-cd92-467e-988b-e6f9b1cb69c3"
   },
   "outputs": [],
   "source": [
    "# Extract SST for each offshore location\n",
    "location_sst = {}\n",
    "\n",
    "for name, (lat_val, lon_val) in offshore_matches.items():\n",
    "    sst = ds['analysed_sst'].sel(latitude=lat_val, longitude=lon_val).to_dataframe().reset_index()\n",
    "    sst['location'] = name  # Add location column\n",
    "    location_sst[name] = sst\n",
    "\n",
    "# Combine all locations into one DataFrame\n",
    "import pandas as pd\n",
    "df_combined = pd.concat(location_sst.values(), ignore_index=True)\n",
    "\n",
    "# Preview\n",
    "df_combined.head()\n"
   ]
  },
  {
   "cell_type": "code",
   "execution_count": null,
   "metadata": {
    "colab": {
     "base_uri": "https://localhost:8080/",
     "height": 472
    },
    "id": "9dDU_S5jQ9Y-",
    "outputId": "f99fab3c-47ed-4bf6-d9de-b9a99505f79b"
   },
   "outputs": [],
   "source": [
    "from google.cloud import bigquery\n",
    "\n",
    "# Set BigQuery config\n",
    "project_id = \"googleprojectid\"\n",
    "dataset_id = \"sst_subset_barbados\"\n",
    "table_id = \"major_locations\"\n",
    "full_table_id = f\"{project_id}.{dataset_id}.{table_id}\"\n",
    "\n",
    "# Upload to BigQuery\n",
    "client = bigquery.Client()\n",
    "job = client.load_table_from_dataframe(df_combined, full_table_id)\n",
    "job.result()  # Wait for it to finish\n",
    "\n",
    "print(f\"✅ Uploaded {len(df)} rows to {full_table_id}\")\n"
   ]
  }
 ],
 "metadata": {
  "colab": {
   "provenance": []
  },
  "kernelspec": {
   "display_name": "Python 3 (ipykernel)",
   "language": "python",
   "name": "python3"
  },
  "language_info": {
   "codemirror_mode": {
    "name": "ipython",
    "version": 3
   },
   "file_extension": ".py",
   "mimetype": "text/x-python",
   "name": "python",
   "nbconvert_exporter": "python",
   "pygments_lexer": "ipython3",
   "version": "3.11.5"
  },
  "widgets": {
   "application/vnd.jupyter.widget-state+json": {
    "1ffcd7732d2d4bc38105f78385feb916": {
     "model_module": "@jupyter-widgets/base",
     "model_module_version": "1.2.0",
     "model_name": "LayoutModel",
     "state": {
      "_model_module": "@jupyter-widgets/base",
      "_model_module_version": "1.2.0",
      "_model_name": "LayoutModel",
      "_view_count": null,
      "_view_module": "@jupyter-widgets/base",
      "_view_module_version": "1.2.0",
      "_view_name": "LayoutView",
      "align_content": null,
      "align_items": null,
      "align_self": null,
      "border": null,
      "bottom": null,
      "display": null,
      "flex": null,
      "flex_flow": null,
      "grid_area": null,
      "grid_auto_columns": null,
      "grid_auto_flow": null,
      "grid_auto_rows": null,
      "grid_column": null,
      "grid_gap": null,
      "grid_row": null,
      "grid_template_areas": null,
      "grid_template_columns": null,
      "grid_template_rows": null,
      "height": null,
      "justify_content": null,
      "justify_items": null,
      "left": null,
      "margin": null,
      "max_height": null,
      "max_width": null,
      "min_height": null,
      "min_width": null,
      "object_fit": null,
      "object_position": null,
      "order": null,
      "overflow": null,
      "overflow_x": null,
      "overflow_y": null,
      "padding": null,
      "right": null,
      "top": null,
      "visibility": null,
      "width": null
     }
    },
    "799ff40158c4455fa6d2076c2e2c243b": {
     "model_module": "@jupyter-widgets/controls",
     "model_module_version": "1.5.0",
     "model_name": "HTMLModel",
     "state": {
      "_dom_classes": [],
      "_model_module": "@jupyter-widgets/controls",
      "_model_module_version": "1.5.0",
      "_model_name": "HTMLModel",
      "_view_count": null,
      "_view_module": "@jupyter-widgets/controls",
      "_view_module_version": "1.5.0",
      "_view_name": "HTMLView",
      "description": "",
      "description_tooltip": null,
      "layout": "IPY_MODEL_1ffcd7732d2d4bc38105f78385feb916",
      "placeholder": "​",
      "style": "IPY_MODEL_b0bfce49b3c34981a9cf6610e6b2ae4c",
      "value": " 10/10 [00:03&lt;00:00,  2.89it/s]"
     }
    },
    "7b9eb7cc5702415b976d038c9e5a914b": {
     "model_module": "@jupyter-widgets/controls",
     "model_module_version": "1.5.0",
     "model_name": "ProgressStyleModel",
     "state": {
      "_model_module": "@jupyter-widgets/controls",
      "_model_module_version": "1.5.0",
      "_model_name": "ProgressStyleModel",
      "_view_count": null,
      "_view_module": "@jupyter-widgets/base",
      "_view_module_version": "1.2.0",
      "_view_name": "StyleView",
      "bar_color": null,
      "description_width": ""
     }
    },
    "8326a048707b4cc49f72710afa0f7e3e": {
     "model_module": "@jupyter-widgets/controls",
     "model_module_version": "1.5.0",
     "model_name": "HBoxModel",
     "state": {
      "_dom_classes": [],
      "_model_module": "@jupyter-widgets/controls",
      "_model_module_version": "1.5.0",
      "_model_name": "HBoxModel",
      "_view_count": null,
      "_view_module": "@jupyter-widgets/controls",
      "_view_module_version": "1.5.0",
      "_view_name": "HBoxView",
      "box_style": "",
      "children": [
       "IPY_MODEL_98958ac18ea54fa183b449b22563160b",
       "IPY_MODEL_906f29c6ff5042f9bca4a70313d8837d",
       "IPY_MODEL_799ff40158c4455fa6d2076c2e2c243b"
      ],
      "layout": "IPY_MODEL_a4ed01f68abf46b9af345438692ee7d0"
     }
    },
    "906f29c6ff5042f9bca4a70313d8837d": {
     "model_module": "@jupyter-widgets/controls",
     "model_module_version": "1.5.0",
     "model_name": "FloatProgressModel",
     "state": {
      "_dom_classes": [],
      "_model_module": "@jupyter-widgets/controls",
      "_model_module_version": "1.5.0",
      "_model_name": "FloatProgressModel",
      "_view_count": null,
      "_view_module": "@jupyter-widgets/controls",
      "_view_module_version": "1.5.0",
      "_view_name": "ProgressView",
      "bar_style": "success",
      "description": "",
      "description_tooltip": null,
      "layout": "IPY_MODEL_cc6be502429740268e47f8a2cec77153",
      "max": 10,
      "min": 0,
      "orientation": "horizontal",
      "style": "IPY_MODEL_7b9eb7cc5702415b976d038c9e5a914b",
      "value": 10
     }
    },
    "98958ac18ea54fa183b449b22563160b": {
     "model_module": "@jupyter-widgets/controls",
     "model_module_version": "1.5.0",
     "model_name": "HTMLModel",
     "state": {
      "_dom_classes": [],
      "_model_module": "@jupyter-widgets/controls",
      "_model_module_version": "1.5.0",
      "_model_name": "HTMLModel",
      "_view_count": null,
      "_view_module": "@jupyter-widgets/controls",
      "_view_module_version": "1.5.0",
      "_view_name": "HTMLView",
      "description": "",
      "description_tooltip": null,
      "layout": "IPY_MODEL_a74cf5a2f53441a9ad0d4cd328ff2f34",
      "placeholder": "​",
      "style": "IPY_MODEL_a9b58b68c7514527ac2321fc84ad8d5b",
      "value": "100%"
     }
    },
    "a4ed01f68abf46b9af345438692ee7d0": {
     "model_module": "@jupyter-widgets/base",
     "model_module_version": "1.2.0",
     "model_name": "LayoutModel",
     "state": {
      "_model_module": "@jupyter-widgets/base",
      "_model_module_version": "1.2.0",
      "_model_name": "LayoutModel",
      "_view_count": null,
      "_view_module": "@jupyter-widgets/base",
      "_view_module_version": "1.2.0",
      "_view_name": "LayoutView",
      "align_content": null,
      "align_items": null,
      "align_self": null,
      "border": null,
      "bottom": null,
      "display": null,
      "flex": null,
      "flex_flow": null,
      "grid_area": null,
      "grid_auto_columns": null,
      "grid_auto_flow": null,
      "grid_auto_rows": null,
      "grid_column": null,
      "grid_gap": null,
      "grid_row": null,
      "grid_template_areas": null,
      "grid_template_columns": null,
      "grid_template_rows": null,
      "height": null,
      "justify_content": null,
      "justify_items": null,
      "left": null,
      "margin": null,
      "max_height": null,
      "max_width": null,
      "min_height": null,
      "min_width": null,
      "object_fit": null,
      "object_position": null,
      "order": null,
      "overflow": null,
      "overflow_x": null,
      "overflow_y": null,
      "padding": null,
      "right": null,
      "top": null,
      "visibility": null,
      "width": null
     }
    },
    "a74cf5a2f53441a9ad0d4cd328ff2f34": {
     "model_module": "@jupyter-widgets/base",
     "model_module_version": "1.2.0",
     "model_name": "LayoutModel",
     "state": {
      "_model_module": "@jupyter-widgets/base",
      "_model_module_version": "1.2.0",
      "_model_name": "LayoutModel",
      "_view_count": null,
      "_view_module": "@jupyter-widgets/base",
      "_view_module_version": "1.2.0",
      "_view_name": "LayoutView",
      "align_content": null,
      "align_items": null,
      "align_self": null,
      "border": null,
      "bottom": null,
      "display": null,
      "flex": null,
      "flex_flow": null,
      "grid_area": null,
      "grid_auto_columns": null,
      "grid_auto_flow": null,
      "grid_auto_rows": null,
      "grid_column": null,
      "grid_gap": null,
      "grid_row": null,
      "grid_template_areas": null,
      "grid_template_columns": null,
      "grid_template_rows": null,
      "height": null,
      "justify_content": null,
      "justify_items": null,
      "left": null,
      "margin": null,
      "max_height": null,
      "max_width": null,
      "min_height": null,
      "min_width": null,
      "object_fit": null,
      "object_position": null,
      "order": null,
      "overflow": null,
      "overflow_x": null,
      "overflow_y": null,
      "padding": null,
      "right": null,
      "top": null,
      "visibility": null,
      "width": null
     }
    },
    "a9b58b68c7514527ac2321fc84ad8d5b": {
     "model_module": "@jupyter-widgets/controls",
     "model_module_version": "1.5.0",
     "model_name": "DescriptionStyleModel",
     "state": {
      "_model_module": "@jupyter-widgets/controls",
      "_model_module_version": "1.5.0",
      "_model_name": "DescriptionStyleModel",
      "_view_count": null,
      "_view_module": "@jupyter-widgets/base",
      "_view_module_version": "1.2.0",
      "_view_name": "StyleView",
      "description_width": ""
     }
    },
    "b0bfce49b3c34981a9cf6610e6b2ae4c": {
     "model_module": "@jupyter-widgets/controls",
     "model_module_version": "1.5.0",
     "model_name": "DescriptionStyleModel",
     "state": {
      "_model_module": "@jupyter-widgets/controls",
      "_model_module_version": "1.5.0",
      "_model_name": "DescriptionStyleModel",
      "_view_count": null,
      "_view_module": "@jupyter-widgets/base",
      "_view_module_version": "1.2.0",
      "_view_name": "StyleView",
      "description_width": ""
     }
    },
    "cc6be502429740268e47f8a2cec77153": {
     "model_module": "@jupyter-widgets/base",
     "model_module_version": "1.2.0",
     "model_name": "LayoutModel",
     "state": {
      "_model_module": "@jupyter-widgets/base",
      "_model_module_version": "1.2.0",
      "_model_name": "LayoutModel",
      "_view_count": null,
      "_view_module": "@jupyter-widgets/base",
      "_view_module_version": "1.2.0",
      "_view_name": "LayoutView",
      "align_content": null,
      "align_items": null,
      "align_self": null,
      "border": null,
      "bottom": null,
      "display": null,
      "flex": null,
      "flex_flow": null,
      "grid_area": null,
      "grid_auto_columns": null,
      "grid_auto_flow": null,
      "grid_auto_rows": null,
      "grid_column": null,
      "grid_gap": null,
      "grid_row": null,
      "grid_template_areas": null,
      "grid_template_columns": null,
      "grid_template_rows": null,
      "height": null,
      "justify_content": null,
      "justify_items": null,
      "left": null,
      "margin": null,
      "max_height": null,
      "max_width": null,
      "min_height": null,
      "min_width": null,
      "object_fit": null,
      "object_position": null,
      "order": null,
      "overflow": null,
      "overflow_x": null,
      "overflow_y": null,
      "padding": null,
      "right": null,
      "top": null,
      "visibility": null,
      "width": null
     }
    }
   }
  }
 },
 "nbformat": 4,
 "nbformat_minor": 4
}
