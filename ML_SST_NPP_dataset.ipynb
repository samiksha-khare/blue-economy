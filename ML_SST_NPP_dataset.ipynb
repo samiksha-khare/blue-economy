{
  "cells": [
    {
      "cell_type": "markdown",
      "metadata": {
        "id": "5_BgyF2PpUgN"
      },
      "source": [
        "# Prediction & Corelation between SST and NPP Data"
      ]
    },
    {
      "cell_type": "code",
      "execution_count": null,
      "metadata": {
        "id": "DWp5b2jrnozO"
      },
      "outputs": [],
      "source": [
        "import xarray as xr\n",
        "import matplotlib.pyplot as plt\n",
        "from google.colab import auth\n",
        "from google.cloud import bigquery\n",
        "import pandas as pd\n",
        "import numpy as np\n"
      ]
    },
    {
      "cell_type": "code",
      "execution_count": null,
      "metadata": {
        "colab": {
          "base_uri": "https://localhost:8080/"
        },
        "collapsed": true,
        "id": "7PlylzxLnaua",
        "outputId": "57778c78-7b0a-45d6-fdae-665306d22009"
      },
      "outputs": [],
      "source": [
        "!pip install copernicusmarine\n",
        "\n",
        "# Step 1: Install the Copernicus Marine Toolbox\n",
        "import copernicusmarine\n",
        "\n",
        "# Step 2: Login with Your Copernicus Marine Credentials\n",
        "copernicusmarine.login(username=\"samikshakhare22@gmail.com\", password=\"Counter@1\")\n"
      ]
    },
    {
      "cell_type": "markdown",
      "metadata": {
        "id": "TFdXoeSfpqt1"
      },
      "source": [
        "# Data Extraction\n",
        "\n"
      ]
    },
    {
      "cell_type": "markdown",
      "metadata": {
        "id": "vTxd78imooqt"
      },
      "source": [
        "### To cover Barbados and its nearby coastal waters (especially beaches) for analyzing Sea Surface Temperature (SST) and Net Primary Productivity (NPP), a safe and effective geographic bounding box"
      ]
    },
    {
      "cell_type": "code",
      "execution_count": null,
      "metadata": {
        "colab": {
          "base_uri": "https://localhost:8080/",
          "height": 317,
          "referenced_widgets": [
            "f47a69c137684871a27807af379fbf93",
            "b31fe88ec26647c59d6b8aee4b82f7c1",
            "d5e7f6759cc8438e80e3cc446ec2549d",
            "d0105a0b994f4bbca133048d40c47ee0",
            "d25c6e4a6a6440e4ae06e21204e77e59",
            "d4d18c03b09e466ebb9b06f7ccd8b2f9",
            "4b5058fcc5934436a6213cb8139bc65e",
            "540a93933576484289ec9a3c207c18e1",
            "d8790ba588574aa88985c8d62eef95bf",
            "2d10ee0dba264f569b8817ce9e1cc95e",
            "cfe261fb13e64217afd37b0c103846b0"
          ]
        },
        "collapsed": true,
        "id": "HqP8XT7eqqxs",
        "outputId": "f6631b18-edce-4360-92f9-8720887e34d3"
      },
      "outputs": [],
      "source": [
        "# Get SST data: https://data.marine.copernicus.eu/product/SST_GLO_SST_L4_NRT_OBSERVATIONS_010_001/download\n",
        "\n",
        "copernicusmarine.subset(\n",
        "   dataset_id = \"METOFFICE-GLO-SST-L4-NRT-OBS-SST-V2\",\n",
        "   variables = [\"analysed_sst\"],\n",
        "   start_datetime = \"2011-01-01T00:00:00\",\n",
        "   end_datetime = \"2024-12-31T23:59:59\",\n",
        "   minimum_longitude = -59.7,\n",
        "   maximum_longitude = -59.3,\n",
        "   minimum_latitude = 12.95,\n",
        "   maximum_latitude = 13.3,\n",
        "   maximum_depth = 2,\n",
        "   output_filename = \"sst_data.nc\",\n",
        "   output_directory = \"copernicus-data\"\n",
        ")"
      ]
    },
    {
      "cell_type": "code",
      "execution_count": null,
      "metadata": {
        "colab": {
          "base_uri": "https://localhost:8080/",
          "height": 347,
          "referenced_widgets": [
            "60b1f28a366c49408fab1618004d942b",
            "3f25580d09dc431a9635dc7958826450",
            "222d5a40bda14beeb5d9838b3a3eb3cb",
            "e79e9b58ba2240c7be221bf0e03c9ec3",
            "aebc64dcdbc244b3a4170cb556a72d71",
            "69726b69260a4ad398f59b5bbad0d8b3",
            "b4056a426cdb43a38f4d564d959bce6d",
            "e340ec93dbe14c0294c0cf285ce5a47d",
            "5917ab2ebfc44292a39d5c1b88cc4432",
            "faaa85d810224bb4b910391a31948090",
            "bb9351fca5ac499aa347559b4c3e0b09"
          ]
        },
        "collapsed": true,
        "id": "Q5L_dmnsfyCO",
        "outputId": "13b8468c-4ed7-42ef-da42-c77376c35ef6"
      },
      "outputs": [],
      "source": [
        "# Get NPP Data:  https://data.marine.copernicus.eu/product/GLOBAL_MULTIYEAR_BGC_001_033/description\n",
        "\n",
        "copernicusmarine.subset(\n",
        "   dataset_id=\"cmems_mod_glo_bgc_my_0.083deg-lmtl_PT1D-i\",\n",
        "   variables = [\n",
        "    \"net_primary_productivity_of_biomass_expressed_as_carbon_in_sea_water\",\n",
        "    \"euphotic_zone_depth\",\n",
        "    \"mass_content_of_zooplankton_expressed_as_carbon_in_sea_water\"\n",
        "],\n",
        "   start_datetime = \"2011-01-01T00:00:00\",\n",
        "   end_datetime = \"2024-12-31T23:59:59\",\n",
        "   minimum_longitude = -59.7,\n",
        "   maximum_longitude = -59.3,\n",
        "   minimum_latitude = 12.95,\n",
        "   maximum_latitude = 13.3,\n",
        "   maximum_depth = 2,\n",
        "   output_filename = \"npp_data.nc\",\n",
        "   output_directory = \"copernicus-data\"\n",
        ")\n"
      ]
    },
    {
      "cell_type": "markdown",
      "metadata": {
        "id": "YPhbj0oKsjd7"
      },
      "source": [
        "## Data Exploration"
      ]
    },
    {
      "cell_type": "code",
      "execution_count": null,
      "metadata": {
        "collapsed": true,
        "id": "I4Gwt_7Cl8Ij"
      },
      "outputs": [],
      "source": [
        "import xarray as xr\n",
        "\n",
        "# Open the NetCDF file\n",
        "sst_ds = xr.open_dataset('/content/copernicus-data/sst_data.nc')\n",
        "npp_ds = xr.open_dataset('/content/copernicus-data/npp_data.nc')"
      ]
    },
    {
      "cell_type": "markdown",
      "metadata": {
        "id": "kOeI_r9Z_hS6"
      },
      "source": []
    },
    {
      "cell_type": "code",
      "execution_count": null,
      "metadata": {
        "colab": {
          "base_uri": "https://localhost:8080/"
        },
        "collapsed": true,
        "id": "dob802a1tnz5",
        "outputId": "6eb0b107-d06a-4786-bf0f-8c9f7e79759f"
      },
      "outputs": [],
      "source": [
        "# Rename using Dataset.rename\n",
        "sst_ds = sst_ds.rename({'analysed_sst': 'sst'})\n",
        "print(sst_ds.data_vars)"
      ]
    },
    {
      "cell_type": "code",
      "execution_count": null,
      "metadata": {
        "colab": {
          "base_uri": "https://localhost:8080/"
        },
        "id": "0IJS_-Cat8NY",
        "outputId": "a7cf84cd-25ae-4b2e-851a-706e0ff7fdf7"
      },
      "outputs": [],
      "source": [
        "# Renamed variable name from dataset\n",
        "npp_var = npp_ds[['npp', 'zeu','zooc']]\n",
        "\n",
        "# List all variables in the dataset\n",
        "print(npp_var.data_vars)"
      ]
    },
    {
      "cell_type": "markdown",
      "metadata": {
        "id": "AdA-2Hihy6wJ"
      },
      "source": []
    },
    {
      "cell_type": "code",
      "execution_count": null,
      "metadata": {
        "id": "0SZpaLSMroR0"
      },
      "outputs": [],
      "source": [
        "# Convert to DataFrame\n",
        "npp_df = npp_var.to_dataframe().reset_index()\n",
        "sst_df = sst_ds['sst'].to_dataframe().reset_index()"
      ]
    },
    {
      "cell_type": "code",
      "execution_count": null,
      "metadata": {
        "colab": {
          "base_uri": "https://localhost:8080/",
          "height": 206
        },
        "id": "mitdGNG1wHgU",
        "outputId": "807164af-e1d4-41c9-d6db-6253006b7753"
      },
      "outputs": [],
      "source": [
        "sst_df.head()"
      ]
    },
    {
      "cell_type": "code",
      "execution_count": null,
      "metadata": {
        "colab": {
          "base_uri": "https://localhost:8080/",
          "height": 206
        },
        "id": "5XcoW5ucwOep",
        "outputId": "4064370a-a09c-4f72-b447-92e206cb8d2f"
      },
      "outputs": [],
      "source": [
        "npp_df.head()"
      ]
    },
    {
      "cell_type": "markdown",
      "metadata": {
        "id": "QyKQmdFEsJp-"
      },
      "source": [
        "## Handle missing values"
      ]
    },
    {
      "cell_type": "code",
      "execution_count": null,
      "metadata": {
        "colab": {
          "base_uri": "https://localhost:8080/"
        },
        "id": "6A1irhXtwgvo",
        "outputId": "3b05df54-83c5-4101-eb24-93166b4a7f12"
      },
      "outputs": [],
      "source": [
        "sst_df.shape"
      ]
    },
    {
      "cell_type": "code",
      "execution_count": null,
      "metadata": {
        "colab": {
          "base_uri": "https://localhost:8080/",
          "height": 210
        },
        "id": "XK9WqwZowdKP",
        "outputId": "ecc7c72b-6070-4d70-ef5a-5924b84806ab"
      },
      "outputs": [],
      "source": [
        "sst_df.isnull().sum()"
      ]
    },
    {
      "cell_type": "code",
      "execution_count": null,
      "metadata": {
        "colab": {
          "base_uri": "https://localhost:8080/"
        },
        "id": "paQRPOeAwrts",
        "outputId": "ef13ebc1-4764-45cf-c8b0-1b7edee9278d"
      },
      "outputs": [],
      "source": [
        "# Drop missing values\n",
        "sst_df = sst_df.dropna()\n",
        "sst_df.shape"
      ]
    },
    {
      "cell_type": "code",
      "execution_count": null,
      "metadata": {
        "colab": {
          "base_uri": "https://localhost:8080/",
          "height": 272
        },
        "id": "2a6_nsPtrtg9",
        "outputId": "66ba89b6-ae44-4212-aae1-b71176f32806"
      },
      "outputs": [],
      "source": [
        "npp_df.isnull().sum()"
      ]
    },
    {
      "cell_type": "code",
      "execution_count": null,
      "metadata": {
        "colab": {
          "base_uri": "https://localhost:8080/"
        },
        "id": "z9Tf3IvhsPFM",
        "outputId": "08c4f8b3-89cb-4be5-c39c-0d4d8348d46e"
      },
      "outputs": [],
      "source": [
        "npp_df.shape"
      ]
    },
    {
      "cell_type": "code",
      "execution_count": null,
      "metadata": {
        "colab": {
          "base_uri": "https://localhost:8080/"
        },
        "id": "0EPHzjzuICW3",
        "outputId": "90031852-58f8-49b5-c4a2-6e2921f7f42b"
      },
      "outputs": [],
      "source": [
        "# Drop missing values\n",
        "npp_df = npp_df.dropna()\n",
        "npp_df.shape"
      ]
    },
    {
      "cell_type": "markdown",
      "metadata": {
        "id": "0n0WSxWxvA0F"
      },
      "source": [
        "## Merge SST and NPP datasets"
      ]
    },
    {
      "cell_type": "code",
      "execution_count": null,
      "metadata": {
        "colab": {
          "base_uri": "https://localhost:8080/",
          "height": 206
        },
        "id": "j9G7dnZuB04-",
        "outputId": "d477518a-3647-435c-bbe1-b9afba253fd2"
      },
      "outputs": [],
      "source": [
        "def truncate_one_decimal(x):\n",
        "    return float(str(x)[:str(x).find('.') + 2])\n",
        "\n",
        "sst_df['latitude'] = sst_df['latitude'].apply(truncate_one_decimal)\n",
        "sst_df['longitude'] = sst_df['longitude'].apply(truncate_one_decimal)\n",
        "sst_df.head()"
      ]
    },
    {
      "cell_type": "code",
      "execution_count": null,
      "metadata": {
        "id": "Mp8wnvmVB0tx"
      },
      "outputs": [],
      "source": [
        "def truncate_one_decimal(x):\n",
        "    return float(str(x)[:str(x).find('.') + 2])\n",
        "\n",
        "npp_df['latitude'] = npp_df['latitude'].apply(truncate_one_decimal)\n",
        "npp_df['longitude'] = npp_df['longitude'].apply(truncate_one_decimal)"
      ]
    },
    {
      "cell_type": "code",
      "execution_count": null,
      "metadata": {
        "colab": {
          "base_uri": "https://localhost:8080/",
          "height": 206
        },
        "id": "ONR2CDw_I1n9",
        "outputId": "185f7d9c-5dc2-48f1-e732-65c137e9d969"
      },
      "outputs": [],
      "source": [
        "npp_df.head()"
      ]
    },
    {
      "cell_type": "code",
      "execution_count": null,
      "metadata": {
        "id": "DpQ7OVU-I1lj"
      },
      "outputs": [],
      "source": [
        "merged_df = pd.merge(\n",
        "    sst_df,\n",
        "    npp_df,\n",
        "    on=['time', 'latitude', 'longitude'],\n",
        "    how='inner'\n",
        ")\n"
      ]
    },
    {
      "cell_type": "code",
      "execution_count": null,
      "metadata": {
        "colab": {
          "base_uri": "https://localhost:8080/"
        },
        "id": "1bqdAPLVI1i9",
        "outputId": "e6563c0b-a906-40be-efbb-9cd85ca61a15"
      },
      "outputs": [],
      "source": [
        "print(merged_df.head())\n",
        "print(merged_df.shape)\n"
      ]
    },
    {
      "cell_type": "markdown",
      "metadata": {
        "id": "hfqKlQOJLHpa"
      },
      "source": [
        "# Machine Learning Model"
      ]
    },
    {
      "cell_type": "markdown",
      "metadata": {
        "id": "oXbwt6WULPL8"
      },
      "source": [
        "### Regression to predict NPP (Net Primary Productivity) using SST and other variables."
      ]
    },
    {
      "cell_type": "code",
      "execution_count": null,
      "metadata": {
        "id": "h0saSKqBI1du"
      },
      "outputs": [],
      "source": [
        "# 1. Select Features (X) and Target (y):\n",
        "\n",
        "features = ['sst', 'zeu', 'zooc']\n",
        "target = 'npp'\n",
        "\n",
        "X = merged_df[features]\n",
        "y = merged_df[target]\n"
      ]
    },
    {
      "cell_type": "code",
      "execution_count": null,
      "metadata": {
        "id": "KKGmsLqsI1bp"
      },
      "outputs": [],
      "source": [
        "# 2. Train/Test Split\n",
        "\n",
        "from sklearn.model_selection import train_test_split\n",
        "\n",
        "X_train, X_test, y_train, y_test = train_test_split(X, y, test_size=0.2, random_state=42)\n"
      ]
    },
    {
      "cell_type": "code",
      "execution_count": null,
      "metadata": {
        "colab": {
          "base_uri": "https://localhost:8080/",
          "height": 80
        },
        "id": "6ncqKhPmI1ZF",
        "outputId": "a4c0366a-2922-4b5c-b559-14951846416a"
      },
      "outputs": [],
      "source": [
        "# 3. Train a Regression Model\n",
        "\n",
        "from sklearn.linear_model import LinearRegression\n",
        "\n",
        "model = LinearRegression()\n",
        "model.fit(X_train, y_train)\n"
      ]
    },
    {
      "cell_type": "code",
      "execution_count": null,
      "metadata": {
        "colab": {
          "base_uri": "https://localhost:8080/"
        },
        "id": "r68lk60nI1V7",
        "outputId": "78ca42f4-4442-4dff-aff7-42f7547fd447"
      },
      "outputs": [],
      "source": [
        "# 4. Evaluate the Model\n",
        "\n",
        "from sklearn.metrics import r2_score, mean_absolute_error\n",
        "\n",
        "y_pred = model.predict(X_test)\n",
        "print(\"R² Score:\", r2_score(y_test, y_pred))\n",
        "print(\"MAE:\", mean_absolute_error(y_test, y_pred))\n"
      ]
    },
    {
      "cell_type": "markdown",
      "metadata": {
        "id": "iKMCQZ5sMLjR"
      },
      "source": [
        "The R² Score (R-squared), also known as the coefficient of determination, tells you how well your machine learning model explains the variability of the target variable.\n",
        "\n",
        "Higher R² = better model fit."
      ]
    },
    {
      "cell_type": "code",
      "execution_count": null,
      "metadata": {
        "colab": {
          "base_uri": "https://localhost:8080/",
          "height": 472
        },
        "id": "LcckajyHB0oC",
        "outputId": "1e0b4502-05cb-4622-9e28-6c31a3ff9454"
      },
      "outputs": [],
      "source": [
        "# 5. Visualize Actual vs Predicted\n",
        "\n",
        "import matplotlib.pyplot as plt\n",
        "\n",
        "plt.scatter(y_test, y_pred, alpha=0.5)\n",
        "plt.plot([min(y_test), max(y_test)], [min(y_test), max(y_test)], color='red', linestyle='--')  # ideal line\n",
        "plt.xlabel(\"Actual NPP\")\n",
        "plt.ylabel(\"Predicted NPP\")\n",
        "plt.title(\"Actual vs Predicted NPP\")\n",
        "plt.axis('equal')  # <-- ensures same scaling\n",
        "plt.show()\n",
        "\n"
      ]
    },
    {
      "cell_type": "markdown",
      "metadata": {
        "id": "8EpTckrXpkUW"
      },
      "source": [
        "Explaination:\n",
        "\n",
        "Points near the red line = good predictions.\n",
        "\n",
        "Points below the line = model underpredicted NPP.\n",
        "\n",
        "Points above the line = model overpredicted NPP.\n",
        "\n",
        "Saturation effect: Predictions start to flatten near 1000, even as actual NPP continues increasing.\n",
        "\n",
        "This may indicate the model is not capturing high-NPP behavior well (e.g., it's biased toward the mean or lacks nonlinear expressiveness).\n",
        "\n"
      ]
    },
    {
      "cell_type": "code",
      "execution_count": null,
      "metadata": {
        "colab": {
          "base_uri": "https://localhost:8080/",
          "height": 607
        },
        "id": "EXfeQUuOB0k7",
        "outputId": "73bf6423-6a9a-4e7b-f014-0869751a5533"
      },
      "outputs": [],
      "source": [
        "import matplotlib.pyplot as plt\n",
        "import seaborn as sns\n",
        "\n",
        "# Create a correlation heatmap between features and target\n",
        "plt.figure(figsize=(8, 6))\n",
        "sns.heatmap(merged_df[['sst', 'zeu', 'zooc', 'npp']].corr(), annot=True, cmap='coolwarm', fmt=\".2f\")\n",
        "plt.title(\"Correlation Heatmap: SST, ZEU, ZOOC vs NPP\")\n",
        "plt.tight_layout()\n",
        "plt.show()\n"
      ]
    },
    {
      "cell_type": "markdown",
      "metadata": {
        "id": "a5MCGg_mNuTR"
      },
      "source": [
        "### Key Observations:\n",
        "\n",
        "---\n",
        "\n",
        "**1. Strong Negative Correlation Between ZEU and NPP (−0.91)**  \n",
        "→ This suggests that when euphotic depth (ZEU) increases (i.e., light penetrates deeper), surface productivity (NPP) tends to decrease.\n",
        "\n",
        "*Justification:*  \n",
        "- High ZEU often means clearer, nutrient-poor waters → less phytoplankton growth (lower NPP).  \n",
        "- In tropical regions like Barbados, sunlight is abundant year-round, so **light isn’t the limiting factor**.  \n",
        "- **Nutrient availability** (e.g., nitrogen, phosphorus from deep water) becomes the main driver of productivity.  \n",
        "\n",
        "So:  \n",
        "- More light (deeper ZEU) ≠ more productivity  \n",
        "- More nutrients → more productivity  \n",
        "- Hence, negative correlation between ZEU and NPP\n",
        "\n",
        "---\n",
        "\n",
        "**2. Positive Correlation Between ZOOC and NPP (+0.32)**  \n",
        "→ Where there's more primary productivity (NPP), there’s generally more zooplankton feeding on it.\n",
        "\n",
        "*Supports the trophic link:*  \n",
        "- Higher NPP → more food for zooplankton → higher zooplankton biomass\n",
        "\n",
        "---\n",
        "\n",
        "**3. Weak Negative Correlation Between SST and NPP (−0.23)**  \n",
        "→ Warmer sea surface temperatures slightly reduce productivity.\n",
        "\n",
        "*Matches established findings:*  \n",
        "- Warmer waters = less nutrient mixing → reduced phytoplankton growth  \n",
        "- Especially relevant in stratified tropical waters like the Caribbean\n",
        "\n",
        "📄 Reference: [Nature article on SST and productivity](https://www.nature.com/articles/s41598-018-20560-5#:~:text=In%20the%20tropics%2C%20thermal%20stratification,layer%2C%20ultimately%20limiting%20phytoplankton%20growth.)\n",
        "\n",
        "---\n"
      ]
    }
  ],
  "metadata": {
    "colab": {
      "name": "ML_SST_NPP_dataset",
      "provenance": []
    },
    "kernelspec": {
      "display_name": "Python 3",
      "name": "python3"
    },
    "language_info": {
      "name": "python"
    },
    "widgets": {
      "application/vnd.jupyter.widget-state+json": {
        "222d5a40bda14beeb5d9838b3a3eb3cb": {
          "model_module": "@jupyter-widgets/controls",
          "model_module_version": "1.5.0",
          "model_name": "FloatProgressModel",
          "state": {
            "_dom_classes": [],
            "_model_module": "@jupyter-widgets/controls",
            "_model_module_version": "1.5.0",
            "_model_name": "FloatProgressModel",
            "_view_count": null,
            "_view_module": "@jupyter-widgets/controls",
            "_view_module_version": "1.5.0",
            "_view_name": "ProgressView",
            "bar_style": "success",
            "description": "",
            "description_tooltip": null,
            "layout": "IPY_MODEL_e340ec93dbe14c0294c0cf285ce5a47d",
            "max": 18,
            "min": 0,
            "orientation": "horizontal",
            "style": "IPY_MODEL_5917ab2ebfc44292a39d5c1b88cc4432",
            "value": 18
          }
        },
        "2d10ee0dba264f569b8817ce9e1cc95e": {
          "model_module": "@jupyter-widgets/base",
          "model_module_version": "1.2.0",
          "model_name": "LayoutModel",
          "state": {
            "_model_module": "@jupyter-widgets/base",
            "_model_module_version": "1.2.0",
            "_model_name": "LayoutModel",
            "_view_count": null,
            "_view_module": "@jupyter-widgets/base",
            "_view_module_version": "1.2.0",
            "_view_name": "LayoutView",
            "align_content": null,
            "align_items": null,
            "align_self": null,
            "border": null,
            "bottom": null,
            "display": null,
            "flex": null,
            "flex_flow": null,
            "grid_area": null,
            "grid_auto_columns": null,
            "grid_auto_flow": null,
            "grid_auto_rows": null,
            "grid_column": null,
            "grid_gap": null,
            "grid_row": null,
            "grid_template_areas": null,
            "grid_template_columns": null,
            "grid_template_rows": null,
            "height": null,
            "justify_content": null,
            "justify_items": null,
            "left": null,
            "margin": null,
            "max_height": null,
            "max_width": null,
            "min_height": null,
            "min_width": null,
            "object_fit": null,
            "object_position": null,
            "order": null,
            "overflow": null,
            "overflow_x": null,
            "overflow_y": null,
            "padding": null,
            "right": null,
            "top": null,
            "visibility": null,
            "width": null
          }
        },
        "3f25580d09dc431a9635dc7958826450": {
          "model_module": "@jupyter-widgets/controls",
          "model_module_version": "1.5.0",
          "model_name": "HTMLModel",
          "state": {
            "_dom_classes": [],
            "_model_module": "@jupyter-widgets/controls",
            "_model_module_version": "1.5.0",
            "_model_name": "HTMLModel",
            "_view_count": null,
            "_view_module": "@jupyter-widgets/controls",
            "_view_module_version": "1.5.0",
            "_view_name": "HTMLView",
            "description": "",
            "description_tooltip": null,
            "layout": "IPY_MODEL_69726b69260a4ad398f59b5bbad0d8b3",
            "placeholder": "​",
            "style": "IPY_MODEL_b4056a426cdb43a38f4d564d959bce6d",
            "value": "100%"
          }
        },
        "4b5058fcc5934436a6213cb8139bc65e": {
          "model_module": "@jupyter-widgets/controls",
          "model_module_version": "1.5.0",
          "model_name": "DescriptionStyleModel",
          "state": {
            "_model_module": "@jupyter-widgets/controls",
            "_model_module_version": "1.5.0",
            "_model_name": "DescriptionStyleModel",
            "_view_count": null,
            "_view_module": "@jupyter-widgets/base",
            "_view_module_version": "1.2.0",
            "_view_name": "StyleView",
            "description_width": ""
          }
        },
        "540a93933576484289ec9a3c207c18e1": {
          "model_module": "@jupyter-widgets/base",
          "model_module_version": "1.2.0",
          "model_name": "LayoutModel",
          "state": {
            "_model_module": "@jupyter-widgets/base",
            "_model_module_version": "1.2.0",
            "_model_name": "LayoutModel",
            "_view_count": null,
            "_view_module": "@jupyter-widgets/base",
            "_view_module_version": "1.2.0",
            "_view_name": "LayoutView",
            "align_content": null,
            "align_items": null,
            "align_self": null,
            "border": null,
            "bottom": null,
            "display": null,
            "flex": null,
            "flex_flow": null,
            "grid_area": null,
            "grid_auto_columns": null,
            "grid_auto_flow": null,
            "grid_auto_rows": null,
            "grid_column": null,
            "grid_gap": null,
            "grid_row": null,
            "grid_template_areas": null,
            "grid_template_columns": null,
            "grid_template_rows": null,
            "height": null,
            "justify_content": null,
            "justify_items": null,
            "left": null,
            "margin": null,
            "max_height": null,
            "max_width": null,
            "min_height": null,
            "min_width": null,
            "object_fit": null,
            "object_position": null,
            "order": null,
            "overflow": null,
            "overflow_x": null,
            "overflow_y": null,
            "padding": null,
            "right": null,
            "top": null,
            "visibility": null,
            "width": null
          }
        },
        "5917ab2ebfc44292a39d5c1b88cc4432": {
          "model_module": "@jupyter-widgets/controls",
          "model_module_version": "1.5.0",
          "model_name": "ProgressStyleModel",
          "state": {
            "_model_module": "@jupyter-widgets/controls",
            "_model_module_version": "1.5.0",
            "_model_name": "ProgressStyleModel",
            "_view_count": null,
            "_view_module": "@jupyter-widgets/base",
            "_view_module_version": "1.2.0",
            "_view_name": "StyleView",
            "bar_color": null,
            "description_width": ""
          }
        },
        "60b1f28a366c49408fab1618004d942b": {
          "model_module": "@jupyter-widgets/controls",
          "model_module_version": "1.5.0",
          "model_name": "HBoxModel",
          "state": {
            "_dom_classes": [],
            "_model_module": "@jupyter-widgets/controls",
            "_model_module_version": "1.5.0",
            "_model_name": "HBoxModel",
            "_view_count": null,
            "_view_module": "@jupyter-widgets/controls",
            "_view_module_version": "1.5.0",
            "_view_name": "HBoxView",
            "box_style": "",
            "children": [
              "IPY_MODEL_3f25580d09dc431a9635dc7958826450",
              "IPY_MODEL_222d5a40bda14beeb5d9838b3a3eb3cb",
              "IPY_MODEL_e79e9b58ba2240c7be221bf0e03c9ec3"
            ],
            "layout": "IPY_MODEL_aebc64dcdbc244b3a4170cb556a72d71"
          }
        },
        "69726b69260a4ad398f59b5bbad0d8b3": {
          "model_module": "@jupyter-widgets/base",
          "model_module_version": "1.2.0",
          "model_name": "LayoutModel",
          "state": {
            "_model_module": "@jupyter-widgets/base",
            "_model_module_version": "1.2.0",
            "_model_name": "LayoutModel",
            "_view_count": null,
            "_view_module": "@jupyter-widgets/base",
            "_view_module_version": "1.2.0",
            "_view_name": "LayoutView",
            "align_content": null,
            "align_items": null,
            "align_self": null,
            "border": null,
            "bottom": null,
            "display": null,
            "flex": null,
            "flex_flow": null,
            "grid_area": null,
            "grid_auto_columns": null,
            "grid_auto_flow": null,
            "grid_auto_rows": null,
            "grid_column": null,
            "grid_gap": null,
            "grid_row": null,
            "grid_template_areas": null,
            "grid_template_columns": null,
            "grid_template_rows": null,
            "height": null,
            "justify_content": null,
            "justify_items": null,
            "left": null,
            "margin": null,
            "max_height": null,
            "max_width": null,
            "min_height": null,
            "min_width": null,
            "object_fit": null,
            "object_position": null,
            "order": null,
            "overflow": null,
            "overflow_x": null,
            "overflow_y": null,
            "padding": null,
            "right": null,
            "top": null,
            "visibility": null,
            "width": null
          }
        },
        "aebc64dcdbc244b3a4170cb556a72d71": {
          "model_module": "@jupyter-widgets/base",
          "model_module_version": "1.2.0",
          "model_name": "LayoutModel",
          "state": {
            "_model_module": "@jupyter-widgets/base",
            "_model_module_version": "1.2.0",
            "_model_name": "LayoutModel",
            "_view_count": null,
            "_view_module": "@jupyter-widgets/base",
            "_view_module_version": "1.2.0",
            "_view_name": "LayoutView",
            "align_content": null,
            "align_items": null,
            "align_self": null,
            "border": null,
            "bottom": null,
            "display": null,
            "flex": null,
            "flex_flow": null,
            "grid_area": null,
            "grid_auto_columns": null,
            "grid_auto_flow": null,
            "grid_auto_rows": null,
            "grid_column": null,
            "grid_gap": null,
            "grid_row": null,
            "grid_template_areas": null,
            "grid_template_columns": null,
            "grid_template_rows": null,
            "height": null,
            "justify_content": null,
            "justify_items": null,
            "left": null,
            "margin": null,
            "max_height": null,
            "max_width": null,
            "min_height": null,
            "min_width": null,
            "object_fit": null,
            "object_position": null,
            "order": null,
            "overflow": null,
            "overflow_x": null,
            "overflow_y": null,
            "padding": null,
            "right": null,
            "top": null,
            "visibility": null,
            "width": null
          }
        },
        "b31fe88ec26647c59d6b8aee4b82f7c1": {
          "model_module": "@jupyter-widgets/controls",
          "model_module_version": "1.5.0",
          "model_name": "HTMLModel",
          "state": {
            "_dom_classes": [],
            "_model_module": "@jupyter-widgets/controls",
            "_model_module_version": "1.5.0",
            "_model_name": "HTMLModel",
            "_view_count": null,
            "_view_module": "@jupyter-widgets/controls",
            "_view_module_version": "1.5.0",
            "_view_name": "HTMLView",
            "description": "",
            "description_tooltip": null,
            "layout": "IPY_MODEL_d4d18c03b09e466ebb9b06f7ccd8b2f9",
            "placeholder": "​",
            "style": "IPY_MODEL_4b5058fcc5934436a6213cb8139bc65e",
            "value": "100%"
          }
        },
        "b4056a426cdb43a38f4d564d959bce6d": {
          "model_module": "@jupyter-widgets/controls",
          "model_module_version": "1.5.0",
          "model_name": "DescriptionStyleModel",
          "state": {
            "_model_module": "@jupyter-widgets/controls",
            "_model_module_version": "1.5.0",
            "_model_name": "DescriptionStyleModel",
            "_view_count": null,
            "_view_module": "@jupyter-widgets/base",
            "_view_module_version": "1.2.0",
            "_view_name": "StyleView",
            "description_width": ""
          }
        },
        "bb9351fca5ac499aa347559b4c3e0b09": {
          "model_module": "@jupyter-widgets/controls",
          "model_module_version": "1.5.0",
          "model_name": "DescriptionStyleModel",
          "state": {
            "_model_module": "@jupyter-widgets/controls",
            "_model_module_version": "1.5.0",
            "_model_name": "DescriptionStyleModel",
            "_view_count": null,
            "_view_module": "@jupyter-widgets/base",
            "_view_module_version": "1.2.0",
            "_view_name": "StyleView",
            "description_width": ""
          }
        },
        "cfe261fb13e64217afd37b0c103846b0": {
          "model_module": "@jupyter-widgets/controls",
          "model_module_version": "1.5.0",
          "model_name": "DescriptionStyleModel",
          "state": {
            "_model_module": "@jupyter-widgets/controls",
            "_model_module_version": "1.5.0",
            "_model_name": "DescriptionStyleModel",
            "_view_count": null,
            "_view_module": "@jupyter-widgets/base",
            "_view_module_version": "1.2.0",
            "_view_name": "StyleView",
            "description_width": ""
          }
        },
        "d0105a0b994f4bbca133048d40c47ee0": {
          "model_module": "@jupyter-widgets/controls",
          "model_module_version": "1.5.0",
          "model_name": "HTMLModel",
          "state": {
            "_dom_classes": [],
            "_model_module": "@jupyter-widgets/controls",
            "_model_module_version": "1.5.0",
            "_model_name": "HTMLModel",
            "_view_count": null,
            "_view_module": "@jupyter-widgets/controls",
            "_view_module_version": "1.5.0",
            "_view_name": "HTMLView",
            "description": "",
            "description_tooltip": null,
            "layout": "IPY_MODEL_2d10ee0dba264f569b8817ce9e1cc95e",
            "placeholder": "​",
            "style": "IPY_MODEL_cfe261fb13e64217afd37b0c103846b0",
            "value": " 10/10 [00:05&lt;00:00,  1.87it/s]"
          }
        },
        "d25c6e4a6a6440e4ae06e21204e77e59": {
          "model_module": "@jupyter-widgets/base",
          "model_module_version": "1.2.0",
          "model_name": "LayoutModel",
          "state": {
            "_model_module": "@jupyter-widgets/base",
            "_model_module_version": "1.2.0",
            "_model_name": "LayoutModel",
            "_view_count": null,
            "_view_module": "@jupyter-widgets/base",
            "_view_module_version": "1.2.0",
            "_view_name": "LayoutView",
            "align_content": null,
            "align_items": null,
            "align_self": null,
            "border": null,
            "bottom": null,
            "display": null,
            "flex": null,
            "flex_flow": null,
            "grid_area": null,
            "grid_auto_columns": null,
            "grid_auto_flow": null,
            "grid_auto_rows": null,
            "grid_column": null,
            "grid_gap": null,
            "grid_row": null,
            "grid_template_areas": null,
            "grid_template_columns": null,
            "grid_template_rows": null,
            "height": null,
            "justify_content": null,
            "justify_items": null,
            "left": null,
            "margin": null,
            "max_height": null,
            "max_width": null,
            "min_height": null,
            "min_width": null,
            "object_fit": null,
            "object_position": null,
            "order": null,
            "overflow": null,
            "overflow_x": null,
            "overflow_y": null,
            "padding": null,
            "right": null,
            "top": null,
            "visibility": null,
            "width": null
          }
        },
        "d4d18c03b09e466ebb9b06f7ccd8b2f9": {
          "model_module": "@jupyter-widgets/base",
          "model_module_version": "1.2.0",
          "model_name": "LayoutModel",
          "state": {
            "_model_module": "@jupyter-widgets/base",
            "_model_module_version": "1.2.0",
            "_model_name": "LayoutModel",
            "_view_count": null,
            "_view_module": "@jupyter-widgets/base",
            "_view_module_version": "1.2.0",
            "_view_name": "LayoutView",
            "align_content": null,
            "align_items": null,
            "align_self": null,
            "border": null,
            "bottom": null,
            "display": null,
            "flex": null,
            "flex_flow": null,
            "grid_area": null,
            "grid_auto_columns": null,
            "grid_auto_flow": null,
            "grid_auto_rows": null,
            "grid_column": null,
            "grid_gap": null,
            "grid_row": null,
            "grid_template_areas": null,
            "grid_template_columns": null,
            "grid_template_rows": null,
            "height": null,
            "justify_content": null,
            "justify_items": null,
            "left": null,
            "margin": null,
            "max_height": null,
            "max_width": null,
            "min_height": null,
            "min_width": null,
            "object_fit": null,
            "object_position": null,
            "order": null,
            "overflow": null,
            "overflow_x": null,
            "overflow_y": null,
            "padding": null,
            "right": null,
            "top": null,
            "visibility": null,
            "width": null
          }
        },
        "d5e7f6759cc8438e80e3cc446ec2549d": {
          "model_module": "@jupyter-widgets/controls",
          "model_module_version": "1.5.0",
          "model_name": "FloatProgressModel",
          "state": {
            "_dom_classes": [],
            "_model_module": "@jupyter-widgets/controls",
            "_model_module_version": "1.5.0",
            "_model_name": "FloatProgressModel",
            "_view_count": null,
            "_view_module": "@jupyter-widgets/controls",
            "_view_module_version": "1.5.0",
            "_view_name": "ProgressView",
            "bar_style": "success",
            "description": "",
            "description_tooltip": null,
            "layout": "IPY_MODEL_540a93933576484289ec9a3c207c18e1",
            "max": 10,
            "min": 0,
            "orientation": "horizontal",
            "style": "IPY_MODEL_d8790ba588574aa88985c8d62eef95bf",
            "value": 10
          }
        },
        "d8790ba588574aa88985c8d62eef95bf": {
          "model_module": "@jupyter-widgets/controls",
          "model_module_version": "1.5.0",
          "model_name": "ProgressStyleModel",
          "state": {
            "_model_module": "@jupyter-widgets/controls",
            "_model_module_version": "1.5.0",
            "_model_name": "ProgressStyleModel",
            "_view_count": null,
            "_view_module": "@jupyter-widgets/base",
            "_view_module_version": "1.2.0",
            "_view_name": "StyleView",
            "bar_color": null,
            "description_width": ""
          }
        },
        "e340ec93dbe14c0294c0cf285ce5a47d": {
          "model_module": "@jupyter-widgets/base",
          "model_module_version": "1.2.0",
          "model_name": "LayoutModel",
          "state": {
            "_model_module": "@jupyter-widgets/base",
            "_model_module_version": "1.2.0",
            "_model_name": "LayoutModel",
            "_view_count": null,
            "_view_module": "@jupyter-widgets/base",
            "_view_module_version": "1.2.0",
            "_view_name": "LayoutView",
            "align_content": null,
            "align_items": null,
            "align_self": null,
            "border": null,
            "bottom": null,
            "display": null,
            "flex": null,
            "flex_flow": null,
            "grid_area": null,
            "grid_auto_columns": null,
            "grid_auto_flow": null,
            "grid_auto_rows": null,
            "grid_column": null,
            "grid_gap": null,
            "grid_row": null,
            "grid_template_areas": null,
            "grid_template_columns": null,
            "grid_template_rows": null,
            "height": null,
            "justify_content": null,
            "justify_items": null,
            "left": null,
            "margin": null,
            "max_height": null,
            "max_width": null,
            "min_height": null,
            "min_width": null,
            "object_fit": null,
            "object_position": null,
            "order": null,
            "overflow": null,
            "overflow_x": null,
            "overflow_y": null,
            "padding": null,
            "right": null,
            "top": null,
            "visibility": null,
            "width": null
          }
        },
        "e79e9b58ba2240c7be221bf0e03c9ec3": {
          "model_module": "@jupyter-widgets/controls",
          "model_module_version": "1.5.0",
          "model_name": "HTMLModel",
          "state": {
            "_dom_classes": [],
            "_model_module": "@jupyter-widgets/controls",
            "_model_module_version": "1.5.0",
            "_model_name": "HTMLModel",
            "_view_count": null,
            "_view_module": "@jupyter-widgets/controls",
            "_view_module_version": "1.5.0",
            "_view_name": "HTMLView",
            "description": "",
            "description_tooltip": null,
            "layout": "IPY_MODEL_faaa85d810224bb4b910391a31948090",
            "placeholder": "​",
            "style": "IPY_MODEL_bb9351fca5ac499aa347559b4c3e0b09",
            "value": " 18/18 [00:06&lt;00:00,  3.35it/s]"
          }
        },
        "f47a69c137684871a27807af379fbf93": {
          "model_module": "@jupyter-widgets/controls",
          "model_module_version": "1.5.0",
          "model_name": "HBoxModel",
          "state": {
            "_dom_classes": [],
            "_model_module": "@jupyter-widgets/controls",
            "_model_module_version": "1.5.0",
            "_model_name": "HBoxModel",
            "_view_count": null,
            "_view_module": "@jupyter-widgets/controls",
            "_view_module_version": "1.5.0",
            "_view_name": "HBoxView",
            "box_style": "",
            "children": [
              "IPY_MODEL_b31fe88ec26647c59d6b8aee4b82f7c1",
              "IPY_MODEL_d5e7f6759cc8438e80e3cc446ec2549d",
              "IPY_MODEL_d0105a0b994f4bbca133048d40c47ee0"
            ],
            "layout": "IPY_MODEL_d25c6e4a6a6440e4ae06e21204e77e59"
          }
        },
        "faaa85d810224bb4b910391a31948090": {
          "model_module": "@jupyter-widgets/base",
          "model_module_version": "1.2.0",
          "model_name": "LayoutModel",
          "state": {
            "_model_module": "@jupyter-widgets/base",
            "_model_module_version": "1.2.0",
            "_model_name": "LayoutModel",
            "_view_count": null,
            "_view_module": "@jupyter-widgets/base",
            "_view_module_version": "1.2.0",
            "_view_name": "LayoutView",
            "align_content": null,
            "align_items": null,
            "align_self": null,
            "border": null,
            "bottom": null,
            "display": null,
            "flex": null,
            "flex_flow": null,
            "grid_area": null,
            "grid_auto_columns": null,
            "grid_auto_flow": null,
            "grid_auto_rows": null,
            "grid_column": null,
            "grid_gap": null,
            "grid_row": null,
            "grid_template_areas": null,
            "grid_template_columns": null,
            "grid_template_rows": null,
            "height": null,
            "justify_content": null,
            "justify_items": null,
            "left": null,
            "margin": null,
            "max_height": null,
            "max_width": null,
            "min_height": null,
            "min_width": null,
            "object_fit": null,
            "object_position": null,
            "order": null,
            "overflow": null,
            "overflow_x": null,
            "overflow_y": null,
            "padding": null,
            "right": null,
            "top": null,
            "visibility": null,
            "width": null
          }
        }
      }
    }
  },
  "nbformat": 4,
  "nbformat_minor": 0
}
