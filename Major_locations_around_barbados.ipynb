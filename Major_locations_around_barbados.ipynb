{
  "cells": [
    {
      "cell_type": "markdown",
      "metadata": {
        "id": "yM6ZnPAJRI4W"
      },
      "source": [
        "# Predicting Future Trends in Sea Surface Temperature"
      ]
    },
    {
      "cell_type": "code",
      "execution_count": null,
      "metadata": {
        "colab": {
          "base_uri": "https://localhost:8080/"
        },
        "collapsed": true,
        "id": "fIbreMSmnFpS",
        "outputId": "337d9a55-19e5-43d5-f334-82475ace1074"
      },
      "outputs": [],
      "source": [
        "# !pip install --upgrade google-cloud-bigquery"
      ]
    },
    {
      "cell_type": "code",
      "execution_count": null,
      "metadata": {
        "id": "DWp5b2jrnozO"
      },
      "outputs": [],
      "source": [
        "import xarray as xr\n",
        "import matplotlib.pyplot as plt\n",
        "from google.colab import auth\n",
        "from google.cloud import bigquery\n"
      ]
    },
    {
      "cell_type": "code",
      "execution_count": null,
      "metadata": {
        "id": "98wpgCGdnRmP"
      },
      "outputs": [],
      "source": [
        "# auth.authenticate_user()\n",
        "\n",
        "# project_id = 'bamboo-medium-450316-m8'\n",
        "# client = bigquery.Client(project=project_id)\n"
      ]
    },
    {
      "cell_type": "code",
      "execution_count": null,
      "metadata": {
        "colab": {
          "base_uri": "https://localhost:8080/"
        },
        "collapsed": true,
        "executionInfo": {
          "elapsed": 9615,
          "status": "ok",
          "timestamp": 1746433604540,
          "user": {
            "displayName": "",
            "userId": ""
          },
          "user_tz": 420
        },
        "id": "7PlylzxLnaua",
        "outputId": "1bc415af-5527-4495-b480-46651fed98ca"
      },
      "outputs": [],
      "source": [
        "!pip install copernicusmarine\n",
        "\n",
        "# Step 1: Install the Copernicus Marine Toolbox\n",
        "import copernicusmarine\n",
        "\n",
        "# Step 2: Login with Your Copernicus Marine Credentials\n",
        "copernicusmarine.login(username=\"email\", password=\"password\")\n"
      ]
    },
    {
      "cell_type": "code",
      "execution_count": null,
      "metadata": {
        "colab": {
          "base_uri": "https://localhost:8080/",
          "height": 275,
          "referenced_widgets": [
            "28524ba72dea490f86e472d5a08ce676",
            "87d2ee5049504b7dabcd5403a597d612",
            "5fcaae0f60144a0baf9de6eb1147c32a",
            "969fb76649e643ff81767e7505d6360d",
            "b2658231f8dd45b889d3cddf1dec53fe",
            "5cb684e7a6b64814b39f1004bb268085",
            "d1a37780c06f4bca9b27a505a478b714",
            "4de06277a27b4659b307a87c70a06037",
            "678f6b030a41478492097217fef00a01",
            "2342b6f6506243109dc7b2682c7fc38e",
            "a0eedbe0671e445fb7f3d836cbc3436e"
          ]
        },
        "collapsed": true,
        "executionInfo": {
          "elapsed": 13901,
          "status": "ok",
          "timestamp": 1746433742430,
          "user": {
            "displayName": "",
            "userId": ""
          },
          "user_tz": 420
        },
        "id": "Q5L_dmnsfyCO",
        "outputId": "530e2ef6-d178-4899-a48b-ea6f5d8fd247"
      },
      "outputs": [],
      "source": [
        "# Subset\n",
        "\n",
        "copernicusmarine.subset(\n",
        "   dataset_id = \"METOFFICE-GLO-SST-L4-NRT-OBS-SST-V2\",\n",
        "   variables = [\"analysed_sst\"],\n",
        "   start_datetime = \"2011-01-01T00:00:00\",\n",
        "   end_datetime = \"2024-12-31T23:59:59\",\n",
        "   minimum_longitude = -59.75,\n",
        "   maximum_longitude = -59.40,\n",
        "   minimum_latitude = 12.95,\n",
        "   maximum_latitude = 13.25,\n",
        "   minimum_depth = 0,\n",
        "   maximum_depth = 1,\n",
        "   output_filename = \"sst_data_for_major_locations.nc\",\n",
        "   output_directory = \"copernicus-data\"\n",
        ")"
      ]
    },
    {
      "cell_type": "code",
      "execution_count": null,
      "metadata": {
        "colab": {
          "base_uri": "https://localhost:8080/"
        },
        "collapsed": true,
        "executionInfo": {
          "elapsed": 203,
          "status": "ok",
          "timestamp": 1746434654313,
          "user": {
            "displayName": "",
            "userId": ""
          },
          "user_tz": 420
        },
        "id": "fPjRRFQzkztp",
        "outputId": "06f22d85-5850-4bce-da1e-42e17a303edc"
      },
      "outputs": [],
      "source": [
        "import xarray as xr\n",
        "\n",
        "# Open the NetCDF file\n",
        "ds = xr.open_dataset('/content/copernicus-data/sst_data_for_major_locations.nc')\n",
        "print(ds)"
      ]
    },
    {
      "cell_type": "markdown",
      "metadata": {
        "id": "kOeI_r9Z_hS6"
      },
      "source": []
    },
    {
      "cell_type": "code",
      "execution_count": null,
      "metadata": {
        "id": "fyIOeX-7vGT5"
      },
      "outputs": [],
      "source": [
        "# Flatten and convert to dataframe\n",
        "df = ds['analysed_sst'].to_dataframe().reset_index()"
      ]
    },
    {
      "cell_type": "code",
      "execution_count": null,
      "metadata": {
        "colab": {
          "base_uri": "https://localhost:8080/",
          "height": 206
        },
        "executionInfo": {
          "elapsed": 212,
          "status": "ok",
          "timestamp": 1746434658205,
          "user": {
            "displayName": "",
            "userId": ""
          },
          "user_tz": 420
        },
        "id": "zZ9gqiSJvzlS",
        "outputId": "86e36daa-e5d2-46a0-ca31-ad965f27bc03"
      },
      "outputs": [],
      "source": [
        "df.head()"
      ]
    },
    {
      "cell_type": "markdown",
      "metadata": {
        "id": "AdA-2Hihy6wJ"
      },
      "source": []
    },
    {
      "cell_type": "markdown",
      "metadata": {
        "id": "X1aR-NL7l6VM"
      },
      "source": [
        "# Data Exploration"
      ]
    },
    {
      "cell_type": "code",
      "execution_count": null,
      "metadata": {
        "colab": {
          "base_uri": "https://localhost:8080/"
        },
        "executionInfo": {
          "elapsed": 214,
          "status": "ok",
          "timestamp": 1746434661663,
          "user": {
            "displayName": "",
            "userId": ""
          },
          "user_tz": 420
        },
        "id": "qBnL-BZcU0x6",
        "outputId": "e668e990-b589-4160-92aa-b7f6132cc995"
      },
      "outputs": [],
      "source": [
        "df.shape"
      ]
    },
    {
      "cell_type": "code",
      "execution_count": null,
      "metadata": {
        "colab": {
          "base_uri": "https://localhost:8080/"
        },
        "executionInfo": {
          "elapsed": 198,
          "status": "ok",
          "timestamp": 1746434685571,
          "user": {
            "displayName": "",
            "userId": ""
          },
          "user_tz": 420
        },
        "id": "kTMCyUswIqrG",
        "outputId": "ceab72f0-a5c9-4f58-ba73-435f40b49927"
      },
      "outputs": [],
      "source": [
        "import numpy as np\n",
        "\n",
        "# Load coordinate arrays from dataset\n",
        "latitudes = ds.latitude.values\n",
        "longitudes = ds.longitude.values\n",
        "\n",
        "# Known coastal coordinates (approximate)\n",
        "locations = {\n",
        "    \"Crane Beach\": (13.1089, -59.4414),\n",
        "    \"Oistins\": (13.0647, -59.5515),\n",
        "    \"Conset Bay\": (13.2025, -59.4827)\n",
        "}\n",
        "\n",
        "# Find nearest available offshore grid point for each location\n",
        "offshore_matches = {}\n",
        "\n",
        "for name, (lat, lon) in locations.items():\n",
        "    closest_lat = latitudes[np.abs(latitudes - lat).argmin()]\n",
        "    closest_lon = longitudes[np.abs(longitudes - lon).argmin()]\n",
        "    offshore_matches[name] = (closest_lat, closest_lon)\n",
        "\n",
        "offshore_matches\n"
      ]
    },
    {
      "cell_type": "code",
      "execution_count": null,
      "metadata": {
        "colab": {
          "base_uri": "https://localhost:8080/",
          "height": 206
        },
        "executionInfo": {
          "elapsed": 188,
          "status": "ok",
          "timestamp": 1746434688573,
          "user": {
            "displayName": "",
            "userId": ""
          },
          "user_tz": 420
        },
        "id": "0ji7Bq8pI_GY",
        "outputId": "1a5667fc-1ee2-404f-f8c9-cafa2043ec61"
      },
      "outputs": [],
      "source": [
        "# Extract SST for each offshore location\n",
        "location_sst = {}\n",
        "\n",
        "for name, (lat_val, lon_val) in offshore_matches.items():\n",
        "    sst = ds['analysed_sst'].sel(latitude=lat_val, longitude=lon_val).to_dataframe().reset_index()\n",
        "    sst['location'] = name  # Add location column\n",
        "    location_sst[name] = sst\n",
        "\n",
        "# Combine all locations into one DataFrame\n",
        "import pandas as pd\n",
        "df_combined = pd.concat(location_sst.values(), ignore_index=True)\n",
        "\n",
        "# Preview\n",
        "df_combined.head()\n"
      ]
    },
    {
      "cell_type": "markdown",
      "metadata": {
        "id": "Pn48_T0QmH0u"
      },
      "source": [
        "## Handle missing values"
      ]
    },
    {
      "cell_type": "code",
      "execution_count": null,
      "metadata": {
        "colab": {
          "base_uri": "https://localhost:8080/",
          "height": 206
        },
        "executionInfo": {
          "elapsed": 262,
          "status": "ok",
          "timestamp": 1746434694847,
          "user": {
            "displayName": "",
            "userId": ""
          },
          "user_tz": 420
        },
        "id": "4O9quJYbmyE1",
        "outputId": "145068d2-9981-42ec-dce6-b6d42df567dd"
      },
      "outputs": [],
      "source": [
        "df_combined.head()"
      ]
    },
    {
      "cell_type": "code",
      "execution_count": null,
      "metadata": {
        "colab": {
          "base_uri": "https://localhost:8080/",
          "height": 241
        },
        "collapsed": true,
        "executionInfo": {
          "elapsed": 269,
          "status": "ok",
          "timestamp": 1746434703926,
          "user": {
            "displayName": "",
            "userId": ""
          },
          "user_tz": 420
        },
        "id": "9dDU_S5jQ9Y-",
        "outputId": "01379855-993f-46f6-b278-473e4a06f8f3"
      },
      "outputs": [],
      "source": [
        "df_combined.isnull().sum()"
      ]
    },
    {
      "cell_type": "markdown",
      "metadata": {
        "id": "ZX87iatNoZWa"
      },
      "source": [
        "### 1. Line Plot: Sea Surface Temperature Over Time"
      ]
    },
    {
      "cell_type": "code",
      "execution_count": null,
      "metadata": {
        "colab": {
          "base_uri": "https://localhost:8080/",
          "height": 507
        },
        "executionInfo": {
          "elapsed": 633,
          "status": "ok",
          "timestamp": 1746435563062,
          "user": {
            "displayName": "",
            "userId": ""
          },
          "user_tz": 420
        },
        "id": "1Iru2e_4oWiM",
        "outputId": "88ee80fc-db30-4ad9-f1f1-13fa271dff26"
      },
      "outputs": [],
      "source": [
        "import matplotlib.pyplot as plt\n",
        "\n",
        "df_combined['time'] = pd.to_datetime(df_combined['time'])\n",
        "\n",
        "# Group by date (ignore time part) and calculate mean SST\n",
        "df_daily_avg = df_combined.groupby(df_combined['time'].dt.date)['analysed_sst'].mean().reset_index()\n",
        "\n",
        "plt.figure(figsize=(10, 5))\n",
        "plt.plot(df_daily_avg['time'], df_daily_avg['analysed_sst'])\n",
        "plt.title('Average Daily Sea Surface Temperature')\n",
        "plt.xlabel('Date')\n",
        "plt.ylabel('Avg Analysed SST')\n",
        "plt.grid(True)\n",
        "plt.xticks(rotation=45)\n",
        "plt.tight_layout()\n",
        "plt.show()\n"
      ]
    },
    {
      "cell_type": "markdown",
      "metadata": {
        "id": "0OCHfimLozSy"
      },
      "source": [
        "### 2. Histogram: Distribution of Sea Surface Temperature"
      ]
    },
    {
      "cell_type": "code",
      "execution_count": null,
      "metadata": {
        "colab": {
          "base_uri": "https://localhost:8080/",
          "height": 410
        },
        "executionInfo": {
          "elapsed": 254,
          "status": "ok",
          "timestamp": 1746435008533,
          "user": {
            "displayName": "",
            "userId": ""
          },
          "user_tz": 420
        },
        "id": "Kn17ZCFOoXqX",
        "outputId": "0544ea4d-a2cb-4ea1-961c-80e852a442dd"
      },
      "outputs": [],
      "source": [
        "plt.figure(figsize=(8, 4))\n",
        "plt.hist(df_combined['analysed_sst'], bins=30, edgecolor='black')\n",
        "plt.title('Distribution of Analysed SST')\n",
        "plt.xlabel('Analysed SST')\n",
        "plt.ylabel('Frequency')\n",
        "plt.show()\n"
      ]
    },
    {
      "cell_type": "markdown",
      "metadata": {
        "id": "3OEGYT3to7dN"
      },
      "source": [
        "### 3. Boxplot: SST Distribution by Location"
      ]
    },
    {
      "cell_type": "code",
      "execution_count": null,
      "metadata": {
        "colab": {
          "base_uri": "https://localhost:8080/",
          "height": 623
        },
        "executionInfo": {
          "elapsed": 197,
          "status": "ok",
          "timestamp": 1746435069538,
          "user": {
            "displayName": "",
            "userId": ""
          },
          "user_tz": 420
        },
        "id": "5oy3lnfWoXxm",
        "outputId": "e0d0846c-f9b3-43d7-e25b-6777f3f94d6f"
      },
      "outputs": [],
      "source": [
        "import seaborn as sns\n",
        "\n",
        "plt.figure(figsize=(12, 6))\n",
        "sns.boxplot(data=df_combined, x='location', y='analysed_sst')\n",
        "plt.title('SST Distribution by Location')\n",
        "plt.xticks(rotation=45)\n",
        "plt.show()\n",
        "\n"
      ]
    },
    {
      "cell_type": "markdown",
      "metadata": {
        "id": "chblDEbcTuP2"
      },
      "source": [
        "# Linear Regression"
      ]
    },
    {
      "cell_type": "code",
      "execution_count": null,
      "metadata": {
        "colab": {
          "base_uri": "https://localhost:8080/",
          "height": 507
        },
        "executionInfo": {
          "elapsed": 2147,
          "status": "ok",
          "timestamp": 1746435579671,
          "user": {
            "displayName": "",
            "userId": ""
          },
          "user_tz": 420
        },
        "id": "lcurVbz6rAtg",
        "outputId": "90619b79-0112-40be-e873-67e75a4cfc77"
      },
      "outputs": [],
      "source": [
        "from sklearn.linear_model import LinearRegression\n",
        "import numpy as np\n",
        "\n",
        "# Convert date to ordinal for regression\n",
        "df_daily_avg['date_ordinal'] = pd.to_datetime(df_daily_avg['time']).map(pd.Timestamp.toordinal)\n",
        "\n",
        "# Fit linear regression\n",
        "model = LinearRegression()\n",
        "model.fit(df_daily_avg[['date_ordinal']], df_daily_avg['analysed_sst'])\n",
        "\n",
        "# Predict values\n",
        "df_daily_avg['trend_line'] = model.predict(df_daily_avg[['date_ordinal']])\n",
        "\n",
        "# Plot\n",
        "plt.figure(figsize=(10, 5))\n",
        "plt.plot(df_daily_avg['time'], df_daily_avg['analysed_sst'], label='Daily Avg SST', alpha=0.6)\n",
        "plt.plot(df_daily_avg['time'], df_daily_avg['trend_line'], label='Linear Trend Line', color='green', linewidth=2)\n",
        "plt.title('Average Daily SST with Linear Trend')\n",
        "plt.xlabel('Date')\n",
        "plt.ylabel('Analysed SST')\n",
        "plt.legend()\n",
        "plt.grid(True)\n",
        "plt.xticks(rotation=45)\n",
        "plt.tight_layout()\n",
        "plt.show()\n"
      ]
    },
    {
      "cell_type": "code",
      "execution_count": null,
      "metadata": {
        "colab": {
          "base_uri": "https://localhost:8080/",
          "height": 642
        },
        "executionInfo": {
          "elapsed": 1167,
          "status": "ok",
          "timestamp": 1746435732849,
          "user": {
            "displayName": "",
            "userId": ""
          },
          "user_tz": 420
        },
        "id": "mUnwGeCkrmNK",
        "outputId": "51466532-0f33-418b-c3af-a1b24b87ce4f"
      },
      "outputs": [],
      "source": [
        "from datetime import timedelta\n",
        "\n",
        "# Extend the date range by 5 years from the last date\n",
        "last_date = df_daily_avg['time'].max()\n",
        "future_dates = pd.date_range(start=last_date + timedelta(days=1), periods=5*365, freq='D')  # 5 years\n",
        "\n",
        "# Convert to ordinal\n",
        "future_ordinals = future_dates.map(pd.Timestamp.toordinal).values.reshape(-1, 1)\n",
        "\n",
        "# Predict SST for future dates\n",
        "future_sst = model.predict(future_ordinals)\n",
        "\n",
        "# Combine into a new DataFrame\n",
        "future_df = pd.DataFrame({'time': future_dates, 'predicted_sst': future_sst})\n",
        "\n",
        "# Plot historical + forecast\n",
        "plt.figure(figsize=(12, 6))\n",
        "plt.plot(df_daily_avg['time'], df_daily_avg['analysed_sst'], label='Historical SST', alpha=0.5)\n",
        "plt.plot(df_daily_avg['time'], df_daily_avg['trend_line'], label='Historical Trend', color='green')\n",
        "plt.plot(future_df['time'], future_df['predicted_sst'], label='Forecast SST (Next 5 Years)', color='red')\n",
        "plt.title('SST Forecast for Next 5 Years')\n",
        "plt.xlabel('Date')\n",
        "plt.ylabel('Analysed SST')\n",
        "plt.legend()\n",
        "plt.grid(True)\n",
        "plt.tight_layout()\n",
        "plt.show()\n"
      ]
    },
    {
      "cell_type": "markdown",
      "metadata": {
        "id": "LnPf-KmYTziK"
      },
      "source": [
        "# Non Linear Model"
      ]
    },
    {
      "cell_type": "code",
      "execution_count": null,
      "metadata": {
        "colab": {
          "base_uri": "https://localhost:8080/"
        },
        "executionInfo": {
          "elapsed": 3776,
          "status": "ok",
          "timestamp": 1746435930714,
          "user": {
            "displayName": "",
            "userId": ""
          },
          "user_tz": 420
        },
        "id": "RAfKEP5gr9jL",
        "outputId": "0b66bb71-3a93-45ff-d167-3d65cd7ac517"
      },
      "outputs": [],
      "source": [
        "!pip install prophet"
      ]
    },
    {
      "cell_type": "code",
      "execution_count": null,
      "metadata": {
        "colab": {
          "base_uri": "https://localhost:8080/"
        },
        "executionInfo": {
          "elapsed": 7110,
          "status": "ok",
          "timestamp": 1746435944830,
          "user": {
            "displayName": "",
            "userId": ""
          },
          "user_tz": 420
        },
        "id": "2RfSfwN9r9Sz",
        "outputId": "175a53e8-e79c-494d-95e6-e5dc558880e0"
      },
      "outputs": [],
      "source": [
        "from prophet import Prophet\n",
        "\n",
        "# Prepare data\n",
        "prophet_df = df_daily_avg[['time', 'analysed_sst']].rename(columns={'time': 'ds', 'analysed_sst': 'y'})\n",
        "\n",
        "# Initialize and fit model\n",
        "model = Prophet(yearly_seasonality=True, daily_seasonality=False)\n",
        "model.fit(prophet_df)"
      ]
    },
    {
      "cell_type": "code",
      "execution_count": null,
      "metadata": {
        "id": "dslbCzOer9QM"
      },
      "outputs": [],
      "source": [
        "future = model.make_future_dataframe(periods=5*365)  # 5 years ahead (daily)\n",
        "forecast = model.predict(future)"
      ]
    },
    {
      "cell_type": "code",
      "execution_count": null,
      "metadata": {
        "colab": {
          "base_uri": "https://localhost:8080/",
          "height": 629
        },
        "executionInfo": {
          "elapsed": 756,
          "status": "ok",
          "timestamp": 1746435968876,
          "user": {
            "displayName": "",
            "userId": ""
          },
          "user_tz": 420
        },
        "id": "pYYhKYkur9Nl",
        "outputId": "3e6bbeb2-5c52-4d6c-9ee0-f7424116f59c"
      },
      "outputs": [],
      "source": [
        "fig = model.plot(forecast)\n",
        "plt.title('SST Forecast with Seasonality (Prophet Model)')\n",
        "plt.xlabel('Date')\n",
        "plt.ylabel('Analysed SST')\n",
        "plt.grid(True)\n",
        "plt.show()\n"
      ]
    },
    {
      "cell_type": "code",
      "execution_count": null,
      "metadata": {
        "colab": {
          "base_uri": "https://localhost:8080/",
          "height": 906
        },
        "executionInfo": {
          "elapsed": 1242,
          "status": "ok",
          "timestamp": 1746436012247,
          "user": {
            "displayName": "",
            "userId": ""
          },
          "user_tz": 420
        },
        "id": "FnuQIUu1r9K_",
        "outputId": "9a572dec-5d6b-4b52-c158-6cb9fc8dd49a"
      },
      "outputs": [],
      "source": [
        "fig2 = model.plot_components(forecast)\n"
      ]
    },
    {
      "cell_type": "markdown",
      "metadata": {
        "id": "fEogptM2wbII"
      },
      "source": [
        "| Plot   | Y-Axis Meaning                               | Effect Size   |\n",
        "| ------ | -------------------------------------------- | ------------- |\n",
        "| Weekly | SST deviation by day of week (±0.005 approx) | Tiny impact   |\n",
        "| Yearly | SST deviation by time of year (±1.5 approx)  | Strong impact |\n",
        "\n",
        "\n",
        "SST tends to be ~1.5 units above average during peak warm months, and ~1.2 units below average in the colder months — showing a strong seasonal oscillation."
      ]
    },
    {
      "cell_type": "code",
      "execution_count": null,
      "metadata": {
        "colab": {
          "base_uri": "https://localhost:8080/",
          "height": 1000,
          "referenced_widgets": [
            "8ee42617de434d1cb8b4fa62351257c2",
            "46303bb2611b4a5db0240e58e7bc0983",
            "814bf099f4fb4a4c911dec2fdca6d2ce",
            "dc1eb24e9e6a4db596584ca7b675a1a5",
            "c406f0ead75b4b558c98461b8756bba6",
            "58d346abc4874d098a3467e8ed5f0aed",
            "55d17886f9f14ae3a6d0541afc5d7c6f",
            "840b5d2013ae45c19c6f2b340986259d",
            "3c8402e0b8a742f7a170b99c176ca1e5",
            "1cd4611765ab4d0b96b87358fba0b1a8",
            "cfc132974d024929a4062331ab0926e9"
          ]
        },
        "executionInfo": {
          "elapsed": 43638,
          "status": "ok",
          "timestamp": 1746480011811,
          "user": {
            "displayName": "",
            "userId": ""
          },
          "user_tz": 420
        },
        "id": "R59rORudUWaa",
        "outputId": "fb2400c4-29ab-4437-ade8-848e5fdd01fd"
      },
      "outputs": [],
      "source": [
        "from prophet.diagnostics import cross_validation, performance_metrics\n",
        "df_cv = cross_validation(model, initial='1095 days', period='180 days', horizon='365 days')\n",
        "df_p = performance_metrics(df_cv)\n",
        "df_p.head()"
      ]
    }
  ],
  "metadata": {
    "colab": {
      "name": "Major_locations_around_barbados",
      "provenance": []
    },
    "kernelspec": {
      "display_name": "Python 3",
      "name": "python3"
    },
    "language_info": {
      "name": "python"
    },
    "widgets": {
      "application/vnd.jupyter.widget-state+json": {
        "1cd4611765ab4d0b96b87358fba0b1a8": {
          "model_module": "@jupyter-widgets/base",
          "model_module_version": "1.2.0",
          "model_name": "LayoutModel",
          "state": {
            "_model_module": "@jupyter-widgets/base",
            "_model_module_version": "1.2.0",
            "_model_name": "LayoutModel",
            "_view_count": null,
            "_view_module": "@jupyter-widgets/base",
            "_view_module_version": "1.2.0",
            "_view_name": "LayoutView",
            "align_content": null,
            "align_items": null,
            "align_self": null,
            "border": null,
            "bottom": null,
            "display": null,
            "flex": null,
            "flex_flow": null,
            "grid_area": null,
            "grid_auto_columns": null,
            "grid_auto_flow": null,
            "grid_auto_rows": null,
            "grid_column": null,
            "grid_gap": null,
            "grid_row": null,
            "grid_template_areas": null,
            "grid_template_columns": null,
            "grid_template_rows": null,
            "height": null,
            "justify_content": null,
            "justify_items": null,
            "left": null,
            "margin": null,
            "max_height": null,
            "max_width": null,
            "min_height": null,
            "min_width": null,
            "object_fit": null,
            "object_position": null,
            "order": null,
            "overflow": null,
            "overflow_x": null,
            "overflow_y": null,
            "padding": null,
            "right": null,
            "top": null,
            "visibility": null,
            "width": null
          }
        },
        "2342b6f6506243109dc7b2682c7fc38e": {
          "model_module": "@jupyter-widgets/base",
          "model_module_version": "1.2.0",
          "model_name": "LayoutModel",
          "state": {
            "_model_module": "@jupyter-widgets/base",
            "_model_module_version": "1.2.0",
            "_model_name": "LayoutModel",
            "_view_count": null,
            "_view_module": "@jupyter-widgets/base",
            "_view_module_version": "1.2.0",
            "_view_name": "LayoutView",
            "align_content": null,
            "align_items": null,
            "align_self": null,
            "border": null,
            "bottom": null,
            "display": null,
            "flex": null,
            "flex_flow": null,
            "grid_area": null,
            "grid_auto_columns": null,
            "grid_auto_flow": null,
            "grid_auto_rows": null,
            "grid_column": null,
            "grid_gap": null,
            "grid_row": null,
            "grid_template_areas": null,
            "grid_template_columns": null,
            "grid_template_rows": null,
            "height": null,
            "justify_content": null,
            "justify_items": null,
            "left": null,
            "margin": null,
            "max_height": null,
            "max_width": null,
            "min_height": null,
            "min_width": null,
            "object_fit": null,
            "object_position": null,
            "order": null,
            "overflow": null,
            "overflow_x": null,
            "overflow_y": null,
            "padding": null,
            "right": null,
            "top": null,
            "visibility": null,
            "width": null
          }
        },
        "28524ba72dea490f86e472d5a08ce676": {
          "model_module": "@jupyter-widgets/controls",
          "model_module_version": "1.5.0",
          "model_name": "HBoxModel",
          "state": {
            "_dom_classes": [],
            "_model_module": "@jupyter-widgets/controls",
            "_model_module_version": "1.5.0",
            "_model_name": "HBoxModel",
            "_view_count": null,
            "_view_module": "@jupyter-widgets/controls",
            "_view_module_version": "1.5.0",
            "_view_name": "HBoxView",
            "box_style": "",
            "children": [
              "IPY_MODEL_87d2ee5049504b7dabcd5403a597d612",
              "IPY_MODEL_5fcaae0f60144a0baf9de6eb1147c32a",
              "IPY_MODEL_969fb76649e643ff81767e7505d6360d"
            ],
            "layout": "IPY_MODEL_b2658231f8dd45b889d3cddf1dec53fe"
          }
        },
        "3c8402e0b8a742f7a170b99c176ca1e5": {
          "model_module": "@jupyter-widgets/controls",
          "model_module_version": "1.5.0",
          "model_name": "ProgressStyleModel",
          "state": {
            "_model_module": "@jupyter-widgets/controls",
            "_model_module_version": "1.5.0",
            "_model_name": "ProgressStyleModel",
            "_view_count": null,
            "_view_module": "@jupyter-widgets/base",
            "_view_module_version": "1.2.0",
            "_view_name": "StyleView",
            "bar_color": null,
            "description_width": ""
          }
        },
        "46303bb2611b4a5db0240e58e7bc0983": {
          "model_module": "@jupyter-widgets/controls",
          "model_module_version": "1.5.0",
          "model_name": "HTMLModel",
          "state": {
            "_dom_classes": [],
            "_model_module": "@jupyter-widgets/controls",
            "_model_module_version": "1.5.0",
            "_model_name": "HTMLModel",
            "_view_count": null,
            "_view_module": "@jupyter-widgets/controls",
            "_view_module_version": "1.5.0",
            "_view_name": "HTMLView",
            "description": "",
            "description_tooltip": null,
            "layout": "IPY_MODEL_58d346abc4874d098a3467e8ed5f0aed",
            "placeholder": "​",
            "style": "IPY_MODEL_55d17886f9f14ae3a6d0541afc5d7c6f",
            "value": "100%"
          }
        },
        "4de06277a27b4659b307a87c70a06037": {
          "model_module": "@jupyter-widgets/base",
          "model_module_version": "1.2.0",
          "model_name": "LayoutModel",
          "state": {
            "_model_module": "@jupyter-widgets/base",
            "_model_module_version": "1.2.0",
            "_model_name": "LayoutModel",
            "_view_count": null,
            "_view_module": "@jupyter-widgets/base",
            "_view_module_version": "1.2.0",
            "_view_name": "LayoutView",
            "align_content": null,
            "align_items": null,
            "align_self": null,
            "border": null,
            "bottom": null,
            "display": null,
            "flex": null,
            "flex_flow": null,
            "grid_area": null,
            "grid_auto_columns": null,
            "grid_auto_flow": null,
            "grid_auto_rows": null,
            "grid_column": null,
            "grid_gap": null,
            "grid_row": null,
            "grid_template_areas": null,
            "grid_template_columns": null,
            "grid_template_rows": null,
            "height": null,
            "justify_content": null,
            "justify_items": null,
            "left": null,
            "margin": null,
            "max_height": null,
            "max_width": null,
            "min_height": null,
            "min_width": null,
            "object_fit": null,
            "object_position": null,
            "order": null,
            "overflow": null,
            "overflow_x": null,
            "overflow_y": null,
            "padding": null,
            "right": null,
            "top": null,
            "visibility": null,
            "width": null
          }
        },
        "55d17886f9f14ae3a6d0541afc5d7c6f": {
          "model_module": "@jupyter-widgets/controls",
          "model_module_version": "1.5.0",
          "model_name": "DescriptionStyleModel",
          "state": {
            "_model_module": "@jupyter-widgets/controls",
            "_model_module_version": "1.5.0",
            "_model_name": "DescriptionStyleModel",
            "_view_count": null,
            "_view_module": "@jupyter-widgets/base",
            "_view_module_version": "1.2.0",
            "_view_name": "StyleView",
            "description_width": ""
          }
        },
        "58d346abc4874d098a3467e8ed5f0aed": {
          "model_module": "@jupyter-widgets/base",
          "model_module_version": "1.2.0",
          "model_name": "LayoutModel",
          "state": {
            "_model_module": "@jupyter-widgets/base",
            "_model_module_version": "1.2.0",
            "_model_name": "LayoutModel",
            "_view_count": null,
            "_view_module": "@jupyter-widgets/base",
            "_view_module_version": "1.2.0",
            "_view_name": "LayoutView",
            "align_content": null,
            "align_items": null,
            "align_self": null,
            "border": null,
            "bottom": null,
            "display": null,
            "flex": null,
            "flex_flow": null,
            "grid_area": null,
            "grid_auto_columns": null,
            "grid_auto_flow": null,
            "grid_auto_rows": null,
            "grid_column": null,
            "grid_gap": null,
            "grid_row": null,
            "grid_template_areas": null,
            "grid_template_columns": null,
            "grid_template_rows": null,
            "height": null,
            "justify_content": null,
            "justify_items": null,
            "left": null,
            "margin": null,
            "max_height": null,
            "max_width": null,
            "min_height": null,
            "min_width": null,
            "object_fit": null,
            "object_position": null,
            "order": null,
            "overflow": null,
            "overflow_x": null,
            "overflow_y": null,
            "padding": null,
            "right": null,
            "top": null,
            "visibility": null,
            "width": null
          }
        },
        "5cb684e7a6b64814b39f1004bb268085": {
          "model_module": "@jupyter-widgets/base",
          "model_module_version": "1.2.0",
          "model_name": "LayoutModel",
          "state": {
            "_model_module": "@jupyter-widgets/base",
            "_model_module_version": "1.2.0",
            "_model_name": "LayoutModel",
            "_view_count": null,
            "_view_module": "@jupyter-widgets/base",
            "_view_module_version": "1.2.0",
            "_view_name": "LayoutView",
            "align_content": null,
            "align_items": null,
            "align_self": null,
            "border": null,
            "bottom": null,
            "display": null,
            "flex": null,
            "flex_flow": null,
            "grid_area": null,
            "grid_auto_columns": null,
            "grid_auto_flow": null,
            "grid_auto_rows": null,
            "grid_column": null,
            "grid_gap": null,
            "grid_row": null,
            "grid_template_areas": null,
            "grid_template_columns": null,
            "grid_template_rows": null,
            "height": null,
            "justify_content": null,
            "justify_items": null,
            "left": null,
            "margin": null,
            "max_height": null,
            "max_width": null,
            "min_height": null,
            "min_width": null,
            "object_fit": null,
            "object_position": null,
            "order": null,
            "overflow": null,
            "overflow_x": null,
            "overflow_y": null,
            "padding": null,
            "right": null,
            "top": null,
            "visibility": null,
            "width": null
          }
        },
        "5fcaae0f60144a0baf9de6eb1147c32a": {
          "model_module": "@jupyter-widgets/controls",
          "model_module_version": "1.5.0",
          "model_name": "FloatProgressModel",
          "state": {
            "_dom_classes": [],
            "_model_module": "@jupyter-widgets/controls",
            "_model_module_version": "1.5.0",
            "_model_name": "FloatProgressModel",
            "_view_count": null,
            "_view_module": "@jupyter-widgets/controls",
            "_view_module_version": "1.5.0",
            "_view_name": "ProgressView",
            "bar_style": "success",
            "description": "",
            "description_tooltip": null,
            "layout": "IPY_MODEL_4de06277a27b4659b307a87c70a06037",
            "max": 10,
            "min": 0,
            "orientation": "horizontal",
            "style": "IPY_MODEL_678f6b030a41478492097217fef00a01",
            "value": 10
          }
        },
        "678f6b030a41478492097217fef00a01": {
          "model_module": "@jupyter-widgets/controls",
          "model_module_version": "1.5.0",
          "model_name": "ProgressStyleModel",
          "state": {
            "_model_module": "@jupyter-widgets/controls",
            "_model_module_version": "1.5.0",
            "_model_name": "ProgressStyleModel",
            "_view_count": null,
            "_view_module": "@jupyter-widgets/base",
            "_view_module_version": "1.2.0",
            "_view_name": "StyleView",
            "bar_color": null,
            "description_width": ""
          }
        },
        "814bf099f4fb4a4c911dec2fdca6d2ce": {
          "model_module": "@jupyter-widgets/controls",
          "model_module_version": "1.5.0",
          "model_name": "FloatProgressModel",
          "state": {
            "_dom_classes": [],
            "_model_module": "@jupyter-widgets/controls",
            "_model_module_version": "1.5.0",
            "_model_name": "FloatProgressModel",
            "_view_count": null,
            "_view_module": "@jupyter-widgets/controls",
            "_view_module_version": "1.5.0",
            "_view_name": "ProgressView",
            "bar_style": "success",
            "description": "",
            "description_tooltip": null,
            "layout": "IPY_MODEL_840b5d2013ae45c19c6f2b340986259d",
            "max": 21,
            "min": 0,
            "orientation": "horizontal",
            "style": "IPY_MODEL_3c8402e0b8a742f7a170b99c176ca1e5",
            "value": 21
          }
        },
        "840b5d2013ae45c19c6f2b340986259d": {
          "model_module": "@jupyter-widgets/base",
          "model_module_version": "1.2.0",
          "model_name": "LayoutModel",
          "state": {
            "_model_module": "@jupyter-widgets/base",
            "_model_module_version": "1.2.0",
            "_model_name": "LayoutModel",
            "_view_count": null,
            "_view_module": "@jupyter-widgets/base",
            "_view_module_version": "1.2.0",
            "_view_name": "LayoutView",
            "align_content": null,
            "align_items": null,
            "align_self": null,
            "border": null,
            "bottom": null,
            "display": null,
            "flex": null,
            "flex_flow": null,
            "grid_area": null,
            "grid_auto_columns": null,
            "grid_auto_flow": null,
            "grid_auto_rows": null,
            "grid_column": null,
            "grid_gap": null,
            "grid_row": null,
            "grid_template_areas": null,
            "grid_template_columns": null,
            "grid_template_rows": null,
            "height": null,
            "justify_content": null,
            "justify_items": null,
            "left": null,
            "margin": null,
            "max_height": null,
            "max_width": null,
            "min_height": null,
            "min_width": null,
            "object_fit": null,
            "object_position": null,
            "order": null,
            "overflow": null,
            "overflow_x": null,
            "overflow_y": null,
            "padding": null,
            "right": null,
            "top": null,
            "visibility": null,
            "width": null
          }
        },
        "87d2ee5049504b7dabcd5403a597d612": {
          "model_module": "@jupyter-widgets/controls",
          "model_module_version": "1.5.0",
          "model_name": "HTMLModel",
          "state": {
            "_dom_classes": [],
            "_model_module": "@jupyter-widgets/controls",
            "_model_module_version": "1.5.0",
            "_model_name": "HTMLModel",
            "_view_count": null,
            "_view_module": "@jupyter-widgets/controls",
            "_view_module_version": "1.5.0",
            "_view_name": "HTMLView",
            "description": "",
            "description_tooltip": null,
            "layout": "IPY_MODEL_5cb684e7a6b64814b39f1004bb268085",
            "placeholder": "​",
            "style": "IPY_MODEL_d1a37780c06f4bca9b27a505a478b714",
            "value": "100%"
          }
        },
        "8ee42617de434d1cb8b4fa62351257c2": {
          "model_module": "@jupyter-widgets/controls",
          "model_module_version": "1.5.0",
          "model_name": "HBoxModel",
          "state": {
            "_dom_classes": [],
            "_model_module": "@jupyter-widgets/controls",
            "_model_module_version": "1.5.0",
            "_model_name": "HBoxModel",
            "_view_count": null,
            "_view_module": "@jupyter-widgets/controls",
            "_view_module_version": "1.5.0",
            "_view_name": "HBoxView",
            "box_style": "",
            "children": [
              "IPY_MODEL_46303bb2611b4a5db0240e58e7bc0983",
              "IPY_MODEL_814bf099f4fb4a4c911dec2fdca6d2ce",
              "IPY_MODEL_dc1eb24e9e6a4db596584ca7b675a1a5"
            ],
            "layout": "IPY_MODEL_c406f0ead75b4b558c98461b8756bba6"
          }
        },
        "969fb76649e643ff81767e7505d6360d": {
          "model_module": "@jupyter-widgets/controls",
          "model_module_version": "1.5.0",
          "model_name": "HTMLModel",
          "state": {
            "_dom_classes": [],
            "_model_module": "@jupyter-widgets/controls",
            "_model_module_version": "1.5.0",
            "_model_name": "HTMLModel",
            "_view_count": null,
            "_view_module": "@jupyter-widgets/controls",
            "_view_module_version": "1.5.0",
            "_view_name": "HTMLView",
            "description": "",
            "description_tooltip": null,
            "layout": "IPY_MODEL_2342b6f6506243109dc7b2682c7fc38e",
            "placeholder": "​",
            "style": "IPY_MODEL_a0eedbe0671e445fb7f3d836cbc3436e",
            "value": " 10/10 [00:02&lt;00:00,  5.08it/s]"
          }
        },
        "a0eedbe0671e445fb7f3d836cbc3436e": {
          "model_module": "@jupyter-widgets/controls",
          "model_module_version": "1.5.0",
          "model_name": "DescriptionStyleModel",
          "state": {
            "_model_module": "@jupyter-widgets/controls",
            "_model_module_version": "1.5.0",
            "_model_name": "DescriptionStyleModel",
            "_view_count": null,
            "_view_module": "@jupyter-widgets/base",
            "_view_module_version": "1.2.0",
            "_view_name": "StyleView",
            "description_width": ""
          }
        },
        "b2658231f8dd45b889d3cddf1dec53fe": {
          "model_module": "@jupyter-widgets/base",
          "model_module_version": "1.2.0",
          "model_name": "LayoutModel",
          "state": {
            "_model_module": "@jupyter-widgets/base",
            "_model_module_version": "1.2.0",
            "_model_name": "LayoutModel",
            "_view_count": null,
            "_view_module": "@jupyter-widgets/base",
            "_view_module_version": "1.2.0",
            "_view_name": "LayoutView",
            "align_content": null,
            "align_items": null,
            "align_self": null,
            "border": null,
            "bottom": null,
            "display": null,
            "flex": null,
            "flex_flow": null,
            "grid_area": null,
            "grid_auto_columns": null,
            "grid_auto_flow": null,
            "grid_auto_rows": null,
            "grid_column": null,
            "grid_gap": null,
            "grid_row": null,
            "grid_template_areas": null,
            "grid_template_columns": null,
            "grid_template_rows": null,
            "height": null,
            "justify_content": null,
            "justify_items": null,
            "left": null,
            "margin": null,
            "max_height": null,
            "max_width": null,
            "min_height": null,
            "min_width": null,
            "object_fit": null,
            "object_position": null,
            "order": null,
            "overflow": null,
            "overflow_x": null,
            "overflow_y": null,
            "padding": null,
            "right": null,
            "top": null,
            "visibility": null,
            "width": null
          }
        },
        "c406f0ead75b4b558c98461b8756bba6": {
          "model_module": "@jupyter-widgets/base",
          "model_module_version": "1.2.0",
          "model_name": "LayoutModel",
          "state": {
            "_model_module": "@jupyter-widgets/base",
            "_model_module_version": "1.2.0",
            "_model_name": "LayoutModel",
            "_view_count": null,
            "_view_module": "@jupyter-widgets/base",
            "_view_module_version": "1.2.0",
            "_view_name": "LayoutView",
            "align_content": null,
            "align_items": null,
            "align_self": null,
            "border": null,
            "bottom": null,
            "display": null,
            "flex": null,
            "flex_flow": null,
            "grid_area": null,
            "grid_auto_columns": null,
            "grid_auto_flow": null,
            "grid_auto_rows": null,
            "grid_column": null,
            "grid_gap": null,
            "grid_row": null,
            "grid_template_areas": null,
            "grid_template_columns": null,
            "grid_template_rows": null,
            "height": null,
            "justify_content": null,
            "justify_items": null,
            "left": null,
            "margin": null,
            "max_height": null,
            "max_width": null,
            "min_height": null,
            "min_width": null,
            "object_fit": null,
            "object_position": null,
            "order": null,
            "overflow": null,
            "overflow_x": null,
            "overflow_y": null,
            "padding": null,
            "right": null,
            "top": null,
            "visibility": null,
            "width": null
          }
        },
        "cfc132974d024929a4062331ab0926e9": {
          "model_module": "@jupyter-widgets/controls",
          "model_module_version": "1.5.0",
          "model_name": "DescriptionStyleModel",
          "state": {
            "_model_module": "@jupyter-widgets/controls",
            "_model_module_version": "1.5.0",
            "_model_name": "DescriptionStyleModel",
            "_view_count": null,
            "_view_module": "@jupyter-widgets/base",
            "_view_module_version": "1.2.0",
            "_view_name": "StyleView",
            "description_width": ""
          }
        },
        "d1a37780c06f4bca9b27a505a478b714": {
          "model_module": "@jupyter-widgets/controls",
          "model_module_version": "1.5.0",
          "model_name": "DescriptionStyleModel",
          "state": {
            "_model_module": "@jupyter-widgets/controls",
            "_model_module_version": "1.5.0",
            "_model_name": "DescriptionStyleModel",
            "_view_count": null,
            "_view_module": "@jupyter-widgets/base",
            "_view_module_version": "1.2.0",
            "_view_name": "StyleView",
            "description_width": ""
          }
        },
        "dc1eb24e9e6a4db596584ca7b675a1a5": {
          "model_module": "@jupyter-widgets/controls",
          "model_module_version": "1.5.0",
          "model_name": "HTMLModel",
          "state": {
            "_dom_classes": [],
            "_model_module": "@jupyter-widgets/controls",
            "_model_module_version": "1.5.0",
            "_model_name": "HTMLModel",
            "_view_count": null,
            "_view_module": "@jupyter-widgets/controls",
            "_view_module_version": "1.5.0",
            "_view_name": "HTMLView",
            "description": "",
            "description_tooltip": null,
            "layout": "IPY_MODEL_1cd4611765ab4d0b96b87358fba0b1a8",
            "placeholder": "​",
            "style": "IPY_MODEL_cfc132974d024929a4062331ab0926e9",
            "value": " 21/21 [00:42&lt;00:00,  2.74s/it]"
          }
        }
      }
    }
  },
  "nbformat": 4,
  "nbformat_minor": 0
}
