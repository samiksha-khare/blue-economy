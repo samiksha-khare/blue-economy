{
  "cells": [
    {
      "cell_type": "markdown",
      "metadata": {
        "id": "TBTkZrsAOFsR"
      },
      "source": [
        "# Prediction Model for NPP"
      ]
    },
    {
      "cell_type": "code",
      "execution_count": null,
      "metadata": {
        "executionInfo": {
          "elapsed": 239,
          "status": "ok",
          "timestamp": 1746478228147,
          "user": {
            "displayName": "",
            "userId": ""
          },
          "user_tz": 420
        },
        "id": "DWp5b2jrnozO"
      },
      "outputs": [],
      "source": [
        "import xarray as xr\n",
        "import matplotlib.pyplot as plt\n",
        "from google.colab import auth\n",
        "from google.cloud import bigquery\n",
        "import pandas as pd\n"
      ]
    },
    {
      "cell_type": "code",
      "execution_count": null,
      "metadata": {
        "colab": {
          "base_uri": "https://localhost:8080/"
        },
        "collapsed": true,
        "executionInfo": {
          "elapsed": 7820,
          "status": "ok",
          "timestamp": 1746478255646,
          "user": {
            "displayName": "",
            "userId": ""
          },
          "user_tz": 420
        },
        "id": "7PlylzxLnaua",
        "outputId": "c0047e63-0d74-433f-e2c9-aee37c9cdee9"
      },
      "outputs": [],
      "source": [
        "!pip install copernicusmarine\n",
        "# Step 1: Install the Copernicus Marine Toolbox\n",
        "import copernicusmarine\n",
        "\n",
        "# Step 2: Login with Your Copernicus Marine Credentials\n",
        "copernicusmarine.login(username=\"samikshakhare@gmail.com\", password=\"Counter@1\")\n"
      ]
    },
    {
      "cell_type": "markdown",
      "metadata": {
        "id": "IilvVRdfAiRv"
      },
      "source": [
        "### Extract data from 2011 to 2023 from Copernicus"
      ]
    },
    {
      "cell_type": "code",
      "execution_count": null,
      "metadata": {
        "colab": {
          "base_uri": "https://localhost:8080/",
          "height": 390,
          "referenced_widgets": [
            "6ed4acea5ad141cb983104e733f6f8a7",
            "67a1abf809ef4314a1c8d0c022a3815c",
            "176090b763da4f46a3282530fdea4fa3",
            "69281ba563694bc0b9511c5983a16f35",
            "6b97feea1a1f4407af9992b0e2769d0e",
            "55fbfe1aa76940ea87ba86d2e6e43d13",
            "3effaea34ce34df3824af31837921a62",
            "1beea9f1287f4b47b22ce0ad12dd7a9d",
            "9a9e6e455cbf43ebbe5262d45b5bd7dc",
            "00c0640408944292a63cbd57bfa0611a",
            "e747e9d1b3c64b149b85ea35ee948591"
          ]
        },
        "executionInfo": {
          "elapsed": 18049,
          "status": "ok",
          "timestamp": 1746478278609,
          "user": {
            "displayName": "",
            "userId": ""
          },
          "user_tz": 420
        },
        "id": "Q5L_dmnsfyCO",
        "outputId": "1544a6ab-aed5-4a19-9d1b-ade6f96d3aa0"
      },
      "outputs": [],
      "source": [
        "# https://data.marine.copernicus.eu/product/GLOBAL_MULTIYEAR_BGC_001_033/description\n",
        "\n",
        "# Coordinates Near Crane Beach, small ocean patch ~6 km east of Crane Beach.\n",
        "# Sargassum is a surface-floating algae, use: 05 depth\n",
        "\n",
        "copernicusmarine.subset(\n",
        "   dataset_id=\"cmems_mod_glo_bgc_my_0.083deg-lmtl_PT1D-i\",\n",
        "   variables = [\n",
        "    \"net_primary_productivity_of_biomass_expressed_as_carbon_in_sea_water\",\n",
        "    \"euphotic_zone_depth\",\n",
        "    \"mass_content_of_zooplankton_expressed_as_carbon_in_sea_water\"\n",
        "],\n",
        "   start_datetime = \"2011-01-01T00:00:00\",\n",
        "   end_datetime = \"2024-12-31T23:59:59\",\n",
        "   minimum_longitude = -59.50,\n",
        "   maximum_longitude = -59.44,\n",
        "   minimum_latitude = 13.10,\n",
        "   maximum_latitude = 13.12,\n",
        "   minimum_depth = 0,\n",
        "   maximum_depth = 5,\n",
        "   output_filename = \"npp_data.nc\",\n",
        "   output_directory = \"copernicus-data\"\n",
        ")\n"
      ]
    },
    {
      "cell_type": "code",
      "execution_count": null,
      "metadata": {
        "colab": {
          "base_uri": "https://localhost:8080/"
        },
        "executionInfo": {
          "elapsed": 255,
          "status": "ok",
          "timestamp": 1746478282409,
          "user": {
            "displayName": "",
            "userId": ""
          },
          "user_tz": 420
        },
        "id": "I4Gwt_7Cl8Ij",
        "outputId": "7e37c453-afe6-48bd-fb75-a7772ecd042c"
      },
      "outputs": [],
      "source": [
        "import xarray as xr\n",
        "\n",
        "# Open the NetCDF file\n",
        "ds = xr.open_dataset('/content/copernicus-data/npp_data.nc')\n",
        "\n",
        "\n",
        "# Explore the dataset\n",
        "print(ds)"
      ]
    },
    {
      "cell_type": "code",
      "execution_count": null,
      "metadata": {
        "colab": {
          "base_uri": "https://localhost:8080/",
          "height": 206
        },
        "executionInfo": {
          "elapsed": 252,
          "status": "ok",
          "timestamp": 1746478285333,
          "user": {
            "displayName": "",
            "userId": ""
          },
          "user_tz": 420
        },
        "id": "0EPHzjzuICW3",
        "outputId": "f014abf4-5b71-42ae-f218-9ebea74ef71f"
      },
      "outputs": [],
      "source": [
        "# Use correct variable name from dataset\n",
        "npp_var = ds[['npp', 'zeu','zooc']]\n",
        "\n",
        "\n",
        "# Convert to DataFrame\n",
        "df = npp_var.to_dataframe().reset_index()\n",
        "\n",
        "# Drop missing values (optional)\n",
        "df = df.dropna()\n",
        "\n",
        "# Preview the DataFrame\n",
        "df.head()"
      ]
    },
    {
      "cell_type": "code",
      "execution_count": null,
      "metadata": {
        "colab": {
          "base_uri": "https://localhost:8080/"
        },
        "executionInfo": {
          "elapsed": 215,
          "status": "ok",
          "timestamp": 1746478289789,
          "user": {
            "displayName": "",
            "userId": ""
          },
          "user_tz": 420
        },
        "id": "0yvKO3GgQ0N2",
        "outputId": "fcb60501-2d13-46c3-a32f-2e732e5355a8"
      },
      "outputs": [],
      "source": [
        "df.shape"
      ]
    },
    {
      "cell_type": "code",
      "execution_count": null,
      "metadata": {
        "colab": {
          "base_uri": "https://localhost:8080/",
          "height": 206
        },
        "executionInfo": {
          "elapsed": 204,
          "status": "ok",
          "timestamp": 1746478291692,
          "user": {
            "displayName": "",
            "userId": ""
          },
          "user_tz": 420
        },
        "id": "64An8dRS-ZsQ",
        "outputId": "5c317ca7-c7ce-4550-ba5d-2df8f8a6d094"
      },
      "outputs": [],
      "source": [
        "# Drop zeu and zooc columns\n",
        "npp_df_cleaned = df.drop(columns=['zeu', 'zooc'])\n",
        "\n",
        "npp_df_cleaned.head()"
      ]
    },
    {
      "cell_type": "code",
      "execution_count": null,
      "metadata": {
        "executionInfo": {
          "elapsed": 416,
          "status": "ok",
          "timestamp": 1746478294305,
          "user": {
            "displayName": "",
            "userId": ""
          },
          "user_tz": 420
        },
        "id": "0wchvufMIZfm"
      },
      "outputs": [],
      "source": [
        "import pandas as pd\n",
        "import numpy as np\n",
        "import matplotlib.pyplot as plt\n",
        "from sklearn.ensemble import RandomForestRegressor"
      ]
    },
    {
      "cell_type": "code",
      "execution_count": null,
      "metadata": {
        "id": "xJcnXNi3Ckf4"
      },
      "outputs": [],
      "source": [
        "# # Use your actual dataset: npp_df_cleaned\n",
        "# # Let's follow the same steps using your real data\n",
        "\n",
        "# # Step 1: Prepare date features if not already added\n",
        "# npp_df_cleaned['time'] = pd.to_datetime(npp_df_cleaned['time'])\n",
        "# npp_df_cleaned['year'] = npp_df_cleaned['time'].dt.year\n",
        "# npp_df_cleaned['month'] = npp_df_cleaned['time'].dt.month\n",
        "# npp_df_cleaned['dayofyear'] = npp_df_cleaned['time'].dt.dayofyear\n",
        "\n",
        "# # Step 2: Train the model\n",
        "# X = npp_df_cleaned[['year', 'month', 'dayofyear']]\n",
        "# y = npp_df_cleaned['npp']\n",
        "# model = RandomForestRegressor(n_estimators=100, random_state=42)\n",
        "# model.fit(X, y)\n",
        "\n",
        "# # Step 3: Create future dates (2024–2030)\n",
        "# future_dates = pd.date_range(start='2024-01-01', end='2030-12-31', freq='D')\n",
        "# future_df = pd.DataFrame({'time': future_dates})\n",
        "# future_df['year'] = future_df['time'].dt.year\n",
        "# future_df['month'] = future_df['time'].dt.month\n",
        "# future_df['dayofyear'] = future_df['time'].dt.dayofyear\n",
        "\n",
        "# # Step 4: Predict NPP for future dates\n",
        "# X_future = future_df[['year', 'month', 'dayofyear']]\n",
        "# future_df['predicted_npp'] = model.predict(X_future)\n",
        "\n",
        "# # Step 5: Calculate average NPP for each year\n",
        "# avg_npp_historic = npp_df_cleaned.groupby('year')['npp'].mean().reset_index()\n",
        "# avg_npp_future = future_df.groupby('year')['predicted_npp'].mean().reset_index()\n",
        "\n",
        "# # Step 6: Plot historical and predicted average NPP\n",
        "# plt.figure(figsize=(10, 6))\n",
        "# plt.plot(avg_npp_historic['year'], avg_npp_historic['npp'], label='Avg NPP (2011–2023)', marker='o')\n",
        "# plt.plot(avg_npp_future['year'], avg_npp_future['predicted_npp'], label='Predicted Avg NPP (2024–2030)', marker='o', linestyle='--')\n",
        "# plt.xlabel('Year')\n",
        "# plt.ylabel('Average NPP')\n",
        "# plt.title('Average Annual NPP: Historical (2011–2023) vs Predicted (2024–2030)')\n",
        "# plt.grid(True)\n",
        "# plt.legend()\n",
        "# plt.tight_layout()\n",
        "# plt.show()\n"
      ]
    },
    {
      "cell_type": "code",
      "execution_count": null,
      "metadata": {
        "colab": {
          "base_uri": "https://localhost:8080/",
          "height": 541
        },
        "executionInfo": {
          "elapsed": 549,
          "status": "ok",
          "timestamp": 1746478298163,
          "user": {
            "displayName": "",
            "userId": ""
          },
          "user_tz": 420
        },
        "id": "OoGzObsBJ4RC",
        "outputId": "5d3bee85-fa97-4f35-b67c-d72845a42519"
      },
      "outputs": [],
      "source": [
        "import pandas as pd\n",
        "import numpy as np\n",
        "import matplotlib.pyplot as plt\n",
        "from sklearn.linear_model import LinearRegression\n",
        "from sklearn.metrics import mean_squared_error\n",
        "\n",
        "# Assuming npp_df_cleaned is already available\n",
        "npp_df_cleaned['time'] = pd.to_datetime(npp_df_cleaned['time'])\n",
        "npp_df_cleaned['year'] = npp_df_cleaned['time'].dt.year\n",
        "\n",
        "# Step 1: Average NPP per year for historical data\n",
        "annual_npp = npp_df_cleaned.groupby('year')['npp'].mean().reset_index()\n",
        "\n",
        "# Step 2: Train a model on year vs average NPP\n",
        "X = annual_npp[['year']]\n",
        "y = annual_npp['npp']\n",
        "\n",
        "model = LinearRegression()\n",
        "model.fit(X, y)\n",
        "\n",
        "# Step 3: Predict future NPP from 2024 to 2030\n",
        "future_years = pd.DataFrame({'year': np.arange(2024, 2031)})\n",
        "future_predictions = model.predict(future_years)\n",
        "\n",
        "# Step 4: Combine historical and predicted data\n",
        "future_years['npp'] = future_predictions\n",
        "combined_df = pd.concat([annual_npp, future_years])\n",
        "\n",
        "# Step 5: Plot\n",
        "plt.figure(figsize=(10, 6))\n",
        "plt.plot(annual_npp['year'], annual_npp['npp'], marker='o', label='Avg NPP (2011–2023)')\n",
        "plt.plot(future_years['year'], future_years['npp'], marker='o', linestyle='--', label='Predicted Avg NPP (2024–2030)')\n",
        "plt.title('Linear Model: Average Annual NPP (2011–2030)')\n",
        "plt.xlabel('Year')\n",
        "plt.ylabel('Average NPP')\n",
        "plt.legend()\n",
        "plt.grid(True)\n",
        "plt.tight_layout()\n",
        "plt.show()\n"
      ]
    },
    {
      "cell_type": "code",
      "execution_count": null,
      "metadata": {
        "colab": {
          "base_uri": "https://localhost:8080/",
          "height": 541
        },
        "executionInfo": {
          "elapsed": 455,
          "status": "ok",
          "timestamp": 1746478302840,
          "user": {
            "displayName": "",
            "userId": ""
          },
          "user_tz": 420
        },
        "id": "vpl4YCD5J4No",
        "outputId": "70125f21-1c39-4198-bbaa-1a916544888e"
      },
      "outputs": [],
      "source": [
        "import pandas as pd\n",
        "import matplotlib.pyplot as plt\n",
        "from sklearn.linear_model import LinearRegression\n",
        "from sklearn.preprocessing import PolynomialFeatures\n",
        "from sklearn.pipeline import make_pipeline\n",
        "\n",
        "# Ensure 'time' is datetime\n",
        "npp_df_cleaned['time'] = pd.to_datetime(npp_df_cleaned['time'])\n",
        "\n",
        "# Step 1: Calculate yearly average NPP from 2011 to 2023\n",
        "npp_df_cleaned['year'] = npp_df_cleaned['time'].dt.year\n",
        "annual_npp = npp_df_cleaned.groupby('year')['npp'].mean().reset_index()\n",
        "\n",
        "# Step 2: Train a Polynomial Regression Model (degree 3)\n",
        "X = annual_npp[['year']]\n",
        "y = annual_npp['npp']\n",
        "model = make_pipeline(PolynomialFeatures(degree=44), LinearRegression())\n",
        "model.fit(X, y)\n",
        "\n",
        "# Step 3: Predict for future years 2024–2030\n",
        "future_years = pd.DataFrame({'year': list(range(2024, 2031))})\n",
        "future_predictions = model.predict(future_years)\n",
        "\n",
        "# Step 4: Plot historical and predicted NPP\n",
        "plt.figure(figsize=(10, 6))\n",
        "plt.plot(annual_npp['year'], annual_npp['npp'], marker='o', label='Avg NPP (2011–2023)')\n",
        "plt.plot(future_years['year'], future_predictions, marker='o', linestyle='--', label='Predicted Avg NPP (2024–2030)')\n",
        "plt.title(\"Polynomial Model: Average Annual NPP (2011–2030)\")\n",
        "plt.xlabel(\"Year\")\n",
        "plt.ylabel(\"Average NPP\")\n",
        "plt.legend()\n",
        "plt.grid(True)\n",
        "plt.tight_layout()\n",
        "plt.show()\n"
      ]
    },
    {
      "cell_type": "code",
      "execution_count": null,
      "metadata": {
        "id": "J0qiD_l8J4EA"
      },
      "outputs": [],
      "source": []
    }
  ],
  "metadata": {
    "colab": {
      "name": "ML_NPP",
      "provenance": []
    },
    "kernelspec": {
      "display_name": "Python 3",
      "name": "python3"
    },
    "language_info": {
      "name": "python"
    },
    "widgets": {
      "application/vnd.jupyter.widget-state+json": {
        "00c0640408944292a63cbd57bfa0611a": {
          "model_module": "@jupyter-widgets/base",
          "model_module_version": "1.2.0",
          "model_name": "LayoutModel",
          "state": {
            "_model_module": "@jupyter-widgets/base",
            "_model_module_version": "1.2.0",
            "_model_name": "LayoutModel",
            "_view_count": null,
            "_view_module": "@jupyter-widgets/base",
            "_view_module_version": "1.2.0",
            "_view_name": "LayoutView",
            "align_content": null,
            "align_items": null,
            "align_self": null,
            "border": null,
            "bottom": null,
            "display": null,
            "flex": null,
            "flex_flow": null,
            "grid_area": null,
            "grid_auto_columns": null,
            "grid_auto_flow": null,
            "grid_auto_rows": null,
            "grid_column": null,
            "grid_gap": null,
            "grid_row": null,
            "grid_template_areas": null,
            "grid_template_columns": null,
            "grid_template_rows": null,
            "height": null,
            "justify_content": null,
            "justify_items": null,
            "left": null,
            "margin": null,
            "max_height": null,
            "max_width": null,
            "min_height": null,
            "min_width": null,
            "object_fit": null,
            "object_position": null,
            "order": null,
            "overflow": null,
            "overflow_x": null,
            "overflow_y": null,
            "padding": null,
            "right": null,
            "top": null,
            "visibility": null,
            "width": null
          }
        },
        "176090b763da4f46a3282530fdea4fa3": {
          "model_module": "@jupyter-widgets/controls",
          "model_module_version": "1.5.0",
          "model_name": "FloatProgressModel",
          "state": {
            "_dom_classes": [],
            "_model_module": "@jupyter-widgets/controls",
            "_model_module_version": "1.5.0",
            "_model_name": "FloatProgressModel",
            "_view_count": null,
            "_view_module": "@jupyter-widgets/controls",
            "_view_module_version": "1.5.0",
            "_view_name": "ProgressView",
            "bar_style": "success",
            "description": "",
            "description_tooltip": null,
            "layout": "IPY_MODEL_1beea9f1287f4b47b22ce0ad12dd7a9d",
            "max": 18,
            "min": 0,
            "orientation": "horizontal",
            "style": "IPY_MODEL_9a9e6e455cbf43ebbe5262d45b5bd7dc",
            "value": 18
          }
        },
        "1beea9f1287f4b47b22ce0ad12dd7a9d": {
          "model_module": "@jupyter-widgets/base",
          "model_module_version": "1.2.0",
          "model_name": "LayoutModel",
          "state": {
            "_model_module": "@jupyter-widgets/base",
            "_model_module_version": "1.2.0",
            "_model_name": "LayoutModel",
            "_view_count": null,
            "_view_module": "@jupyter-widgets/base",
            "_view_module_version": "1.2.0",
            "_view_name": "LayoutView",
            "align_content": null,
            "align_items": null,
            "align_self": null,
            "border": null,
            "bottom": null,
            "display": null,
            "flex": null,
            "flex_flow": null,
            "grid_area": null,
            "grid_auto_columns": null,
            "grid_auto_flow": null,
            "grid_auto_rows": null,
            "grid_column": null,
            "grid_gap": null,
            "grid_row": null,
            "grid_template_areas": null,
            "grid_template_columns": null,
            "grid_template_rows": null,
            "height": null,
            "justify_content": null,
            "justify_items": null,
            "left": null,
            "margin": null,
            "max_height": null,
            "max_width": null,
            "min_height": null,
            "min_width": null,
            "object_fit": null,
            "object_position": null,
            "order": null,
            "overflow": null,
            "overflow_x": null,
            "overflow_y": null,
            "padding": null,
            "right": null,
            "top": null,
            "visibility": null,
            "width": null
          }
        },
        "3effaea34ce34df3824af31837921a62": {
          "model_module": "@jupyter-widgets/controls",
          "model_module_version": "1.5.0",
          "model_name": "DescriptionStyleModel",
          "state": {
            "_model_module": "@jupyter-widgets/controls",
            "_model_module_version": "1.5.0",
            "_model_name": "DescriptionStyleModel",
            "_view_count": null,
            "_view_module": "@jupyter-widgets/base",
            "_view_module_version": "1.2.0",
            "_view_name": "StyleView",
            "description_width": ""
          }
        },
        "55fbfe1aa76940ea87ba86d2e6e43d13": {
          "model_module": "@jupyter-widgets/base",
          "model_module_version": "1.2.0",
          "model_name": "LayoutModel",
          "state": {
            "_model_module": "@jupyter-widgets/base",
            "_model_module_version": "1.2.0",
            "_model_name": "LayoutModel",
            "_view_count": null,
            "_view_module": "@jupyter-widgets/base",
            "_view_module_version": "1.2.0",
            "_view_name": "LayoutView",
            "align_content": null,
            "align_items": null,
            "align_self": null,
            "border": null,
            "bottom": null,
            "display": null,
            "flex": null,
            "flex_flow": null,
            "grid_area": null,
            "grid_auto_columns": null,
            "grid_auto_flow": null,
            "grid_auto_rows": null,
            "grid_column": null,
            "grid_gap": null,
            "grid_row": null,
            "grid_template_areas": null,
            "grid_template_columns": null,
            "grid_template_rows": null,
            "height": null,
            "justify_content": null,
            "justify_items": null,
            "left": null,
            "margin": null,
            "max_height": null,
            "max_width": null,
            "min_height": null,
            "min_width": null,
            "object_fit": null,
            "object_position": null,
            "order": null,
            "overflow": null,
            "overflow_x": null,
            "overflow_y": null,
            "padding": null,
            "right": null,
            "top": null,
            "visibility": null,
            "width": null
          }
        },
        "67a1abf809ef4314a1c8d0c022a3815c": {
          "model_module": "@jupyter-widgets/controls",
          "model_module_version": "1.5.0",
          "model_name": "HTMLModel",
          "state": {
            "_dom_classes": [],
            "_model_module": "@jupyter-widgets/controls",
            "_model_module_version": "1.5.0",
            "_model_name": "HTMLModel",
            "_view_count": null,
            "_view_module": "@jupyter-widgets/controls",
            "_view_module_version": "1.5.0",
            "_view_name": "HTMLView",
            "description": "",
            "description_tooltip": null,
            "layout": "IPY_MODEL_55fbfe1aa76940ea87ba86d2e6e43d13",
            "placeholder": "​",
            "style": "IPY_MODEL_3effaea34ce34df3824af31837921a62",
            "value": "100%"
          }
        },
        "69281ba563694bc0b9511c5983a16f35": {
          "model_module": "@jupyter-widgets/controls",
          "model_module_version": "1.5.0",
          "model_name": "HTMLModel",
          "state": {
            "_dom_classes": [],
            "_model_module": "@jupyter-widgets/controls",
            "_model_module_version": "1.5.0",
            "_model_name": "HTMLModel",
            "_view_count": null,
            "_view_module": "@jupyter-widgets/controls",
            "_view_module_version": "1.5.0",
            "_view_name": "HTMLView",
            "description": "",
            "description_tooltip": null,
            "layout": "IPY_MODEL_00c0640408944292a63cbd57bfa0611a",
            "placeholder": "​",
            "style": "IPY_MODEL_e747e9d1b3c64b149b85ea35ee948591",
            "value": " 18/18 [00:03&lt;00:00,  5.40it/s]"
          }
        },
        "6b97feea1a1f4407af9992b0e2769d0e": {
          "model_module": "@jupyter-widgets/base",
          "model_module_version": "1.2.0",
          "model_name": "LayoutModel",
          "state": {
            "_model_module": "@jupyter-widgets/base",
            "_model_module_version": "1.2.0",
            "_model_name": "LayoutModel",
            "_view_count": null,
            "_view_module": "@jupyter-widgets/base",
            "_view_module_version": "1.2.0",
            "_view_name": "LayoutView",
            "align_content": null,
            "align_items": null,
            "align_self": null,
            "border": null,
            "bottom": null,
            "display": null,
            "flex": null,
            "flex_flow": null,
            "grid_area": null,
            "grid_auto_columns": null,
            "grid_auto_flow": null,
            "grid_auto_rows": null,
            "grid_column": null,
            "grid_gap": null,
            "grid_row": null,
            "grid_template_areas": null,
            "grid_template_columns": null,
            "grid_template_rows": null,
            "height": null,
            "justify_content": null,
            "justify_items": null,
            "left": null,
            "margin": null,
            "max_height": null,
            "max_width": null,
            "min_height": null,
            "min_width": null,
            "object_fit": null,
            "object_position": null,
            "order": null,
            "overflow": null,
            "overflow_x": null,
            "overflow_y": null,
            "padding": null,
            "right": null,
            "top": null,
            "visibility": null,
            "width": null
          }
        },
        "6ed4acea5ad141cb983104e733f6f8a7": {
          "model_module": "@jupyter-widgets/controls",
          "model_module_version": "1.5.0",
          "model_name": "HBoxModel",
          "state": {
            "_dom_classes": [],
            "_model_module": "@jupyter-widgets/controls",
            "_model_module_version": "1.5.0",
            "_model_name": "HBoxModel",
            "_view_count": null,
            "_view_module": "@jupyter-widgets/controls",
            "_view_module_version": "1.5.0",
            "_view_name": "HBoxView",
            "box_style": "",
            "children": [
              "IPY_MODEL_67a1abf809ef4314a1c8d0c022a3815c",
              "IPY_MODEL_176090b763da4f46a3282530fdea4fa3",
              "IPY_MODEL_69281ba563694bc0b9511c5983a16f35"
            ],
            "layout": "IPY_MODEL_6b97feea1a1f4407af9992b0e2769d0e"
          }
        },
        "9a9e6e455cbf43ebbe5262d45b5bd7dc": {
          "model_module": "@jupyter-widgets/controls",
          "model_module_version": "1.5.0",
          "model_name": "ProgressStyleModel",
          "state": {
            "_model_module": "@jupyter-widgets/controls",
            "_model_module_version": "1.5.0",
            "_model_name": "ProgressStyleModel",
            "_view_count": null,
            "_view_module": "@jupyter-widgets/base",
            "_view_module_version": "1.2.0",
            "_view_name": "StyleView",
            "bar_color": null,
            "description_width": ""
          }
        },
        "e747e9d1b3c64b149b85ea35ee948591": {
          "model_module": "@jupyter-widgets/controls",
          "model_module_version": "1.5.0",
          "model_name": "DescriptionStyleModel",
          "state": {
            "_model_module": "@jupyter-widgets/controls",
            "_model_module_version": "1.5.0",
            "_model_name": "DescriptionStyleModel",
            "_view_count": null,
            "_view_module": "@jupyter-widgets/base",
            "_view_module_version": "1.2.0",
            "_view_name": "StyleView",
            "description_width": ""
          }
        }
      }
    }
  },
  "nbformat": 4,
  "nbformat_minor": 0
}
